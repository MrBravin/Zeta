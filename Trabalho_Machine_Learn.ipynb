{
 "cells": [
  {
   "cell_type": "markdown",
   "metadata": {
    "id": "klBFDKdefpny"
   },
   "source": [
    "# **Predição de secas usando dados de solo e clima.**"
   ]
  },
  {
   "cell_type": "markdown",
   "metadata": {
    "id": "Lgzrlpwqk7c7"
   },
   "source": [
    "## **Introdução:**\n",
    "\n",
    "A predição de secas é um problema crítico em muitas partes do mundo, pois as secas podem causar impactos devastadores na agricultura, no abastecimento de água e no meio ambiente. Portanto, é fundamental entendermos como antecipar a ocorrência de secas, permitindo a implementação de medidas preventivas e o planejamento adequado.\n",
    "\n",
    "Os dados de solo e clima desempenham um papel fundamental na compreensão e predição de secas. As características do solo, como o teor de umidade, a textura e a composição química, afetam diretamente a capacidade do solo de reter água e suportar a vegetação. Além disso, as condições climáticas, como a precipitação, a temperatura e a umidade do ar, têm um impacto direto na quantidade de água disponível no solo.\n",
    "\n",
    "Ao utilizar um dataset que combina dados de solo e clima, podemos desenvolver modelos de machine learning mais robustos e precisos. Esses modelos podem capturar correlações complexas entre as variáveis ambientais e, assim, melhorar nossa capacidade de prever secas com antecedência. Além disso, a escolha desse tipo de dataset permite uma abordagem multidisciplinar, integrando conhecimentos.\n"
   ]
  },
  {
   "cell_type": "code",
   "execution_count": 1,
   "metadata": {
    "colab": {
     "base_uri": "https://localhost:8080/"
    },
    "id": "AO47cD4u5wUX",
    "outputId": "a37c1190-48c2-445e-aeca-6a155c7c7d05"
   },
   "outputs": [
    {
     "name": "stdout",
     "output_type": "stream",
     "text": [
      "Requirement already satisfied: imbalanced-learn in c:\\venv\\ilumpy\\lib\\site-packages (0.11.0)\n",
      "Requirement already satisfied: scikit-learn>=1.0.2 in c:\\venv\\ilumpy\\lib\\site-packages (from imbalanced-learn) (1.1.3)\n",
      "Requirement already satisfied: joblib>=1.1.1 in c:\\venv\\ilumpy\\lib\\site-packages (from imbalanced-learn) (1.2.0)\n",
      "Requirement already satisfied: threadpoolctl>=2.0.0 in c:\\venv\\ilumpy\\lib\\site-packages (from imbalanced-learn) (3.1.0)\n",
      "Requirement already satisfied: scipy>=1.5.0 in c:\\venv\\ilumpy\\lib\\site-packages (from imbalanced-learn) (1.8.1)\n",
      "Requirement already satisfied: numpy>=1.17.3 in c:\\venv\\ilumpy\\lib\\site-packages (from imbalanced-learn) (1.23.4)\n",
      "Note: you may need to restart the kernel to use updated packages.\n"
     ]
    },
    {
     "name": "stderr",
     "output_type": "stream",
     "text": [
      "\n",
      "[notice] A new release of pip available: 22.3.1 -> 23.3.1\n",
      "[notice] To update, run: c:\\venv\\ilumpy\\Scripts\\python.exe -m pip install --upgrade pip\n"
     ]
    }
   ],
   "source": [
    "pip install -U imbalanced-learn"
   ]
  },
  {
   "cell_type": "code",
   "execution_count": 2,
   "metadata": {
    "id": "VVrCY6iZ60Iy"
   },
   "outputs": [],
   "source": [
    "import pandas as pd\n",
    "import numpy as np\n",
    "import matplotlib.pyplot as plt\n",
    "from sklearn.linear_model import LinearRegression\n",
    "from sklearn.model_selection import train_test_split\n",
    "from sklearn.pipeline import Pipeline\n",
    "from sklearn.neighbors import KNeighborsClassifier\n",
    "from sklearn.tree import DecisionTreeClassifier\n",
    "from sklearn.decomposition import PCA\n",
    "from sklearn.model_selection import GridSearchCV\n",
    "from sklearn.preprocessing import OrdinalEncoder\n",
    "from sklearn.metrics import mean_squared_error\n",
    "from sklearn.ensemble import RandomForestClassifier\n",
    "from sklearn.model_selection import cross_val_score\n",
    "from imblearn.over_sampling import SMOTE\n",
    "from sklearn.datasets import make_classification"
   ]
  },
  {
   "cell_type": "markdown",
   "metadata": {
    "id": "HHsY_ZWMJZXy",
    "jp-MarkdownHeadingCollapsed": true,
    "tags": []
   },
   "source": [
    "### Importanto o dataset"
   ]
  },
  {
   "cell_type": "code",
   "execution_count": 3,
   "metadata": {
    "id": "d3yBluK_8BR3"
   },
   "outputs": [],
   "source": [
    "df_validação = pd.read_csv('validation_timeseries.csv')"
   ]
  },
  {
   "cell_type": "code",
   "execution_count": 4,
   "metadata": {
    "id": "_bNwnlpoe8HV"
   },
   "outputs": [],
   "source": [
    "df_validation = df_validação.copy()"
   ]
  },
  {
   "cell_type": "code",
   "execution_count": 5,
   "metadata": {
    "colab": {
     "base_uri": "https://localhost:8080/",
     "height": 342
    },
    "id": "LtdLrBpdHtpO",
    "outputId": "a023278a-a6ea-47cb-ca5a-875d48c5d64e"
   },
   "outputs": [
    {
     "data": {
      "text/html": [
       "<div>\n",
       "<style scoped>\n",
       "    .dataframe tbody tr th:only-of-type {\n",
       "        vertical-align: middle;\n",
       "    }\n",
       "\n",
       "    .dataframe tbody tr th {\n",
       "        vertical-align: top;\n",
       "    }\n",
       "\n",
       "    .dataframe thead th {\n",
       "        text-align: right;\n",
       "    }\n",
       "</style>\n",
       "<table border=\"1\" class=\"dataframe\">\n",
       "  <thead>\n",
       "    <tr style=\"text-align: right;\">\n",
       "      <th></th>\n",
       "      <th>fips</th>\n",
       "      <th>date</th>\n",
       "      <th>PRECTOT</th>\n",
       "      <th>PS</th>\n",
       "      <th>QV2M</th>\n",
       "      <th>T2M</th>\n",
       "      <th>T2MDEW</th>\n",
       "      <th>T2MWET</th>\n",
       "      <th>T2M_MAX</th>\n",
       "      <th>T2M_MIN</th>\n",
       "      <th>...</th>\n",
       "      <th>TS</th>\n",
       "      <th>WS10M</th>\n",
       "      <th>WS10M_MAX</th>\n",
       "      <th>WS10M_MIN</th>\n",
       "      <th>WS10M_RANGE</th>\n",
       "      <th>WS50M</th>\n",
       "      <th>WS50M_MAX</th>\n",
       "      <th>WS50M_MIN</th>\n",
       "      <th>WS50M_RANGE</th>\n",
       "      <th>score</th>\n",
       "    </tr>\n",
       "  </thead>\n",
       "  <tbody>\n",
       "    <tr>\n",
       "      <th>0</th>\n",
       "      <td>1001</td>\n",
       "      <td>2017-01-01</td>\n",
       "      <td>32.50</td>\n",
       "      <td>100.02</td>\n",
       "      <td>10.47</td>\n",
       "      <td>14.69</td>\n",
       "      <td>14.47</td>\n",
       "      <td>14.47</td>\n",
       "      <td>17.68</td>\n",
       "      <td>10.53</td>\n",
       "      <td>...</td>\n",
       "      <td>14.63</td>\n",
       "      <td>2.14</td>\n",
       "      <td>2.71</td>\n",
       "      <td>1.52</td>\n",
       "      <td>1.19</td>\n",
       "      <td>4.40</td>\n",
       "      <td>5.96</td>\n",
       "      <td>2.25</td>\n",
       "      <td>3.71</td>\n",
       "      <td>NaN</td>\n",
       "    </tr>\n",
       "    <tr>\n",
       "      <th>1</th>\n",
       "      <td>1001</td>\n",
       "      <td>2017-01-02</td>\n",
       "      <td>63.52</td>\n",
       "      <td>100.04</td>\n",
       "      <td>12.75</td>\n",
       "      <td>17.96</td>\n",
       "      <td>17.75</td>\n",
       "      <td>17.75</td>\n",
       "      <td>20.30</td>\n",
       "      <td>16.14</td>\n",
       "      <td>...</td>\n",
       "      <td>17.85</td>\n",
       "      <td>2.75</td>\n",
       "      <td>4.31</td>\n",
       "      <td>1.60</td>\n",
       "      <td>2.71</td>\n",
       "      <td>5.50</td>\n",
       "      <td>8.16</td>\n",
       "      <td>4.05</td>\n",
       "      <td>4.11</td>\n",
       "      <td>NaN</td>\n",
       "    </tr>\n",
       "    <tr>\n",
       "      <th>2</th>\n",
       "      <td>1001</td>\n",
       "      <td>2017-01-03</td>\n",
       "      <td>18.82</td>\n",
       "      <td>99.69</td>\n",
       "      <td>9.74</td>\n",
       "      <td>14.24</td>\n",
       "      <td>13.44</td>\n",
       "      <td>13.44</td>\n",
       "      <td>18.48</td>\n",
       "      <td>9.29</td>\n",
       "      <td>...</td>\n",
       "      <td>14.06</td>\n",
       "      <td>2.25</td>\n",
       "      <td>3.73</td>\n",
       "      <td>1.64</td>\n",
       "      <td>2.09</td>\n",
       "      <td>4.80</td>\n",
       "      <td>7.27</td>\n",
       "      <td>2.54</td>\n",
       "      <td>4.72</td>\n",
       "      <td>2.0</td>\n",
       "    </tr>\n",
       "    <tr>\n",
       "      <th>3</th>\n",
       "      <td>1001</td>\n",
       "      <td>2017-01-04</td>\n",
       "      <td>0.01</td>\n",
       "      <td>100.02</td>\n",
       "      <td>5.21</td>\n",
       "      <td>8.10</td>\n",
       "      <td>3.86</td>\n",
       "      <td>3.88</td>\n",
       "      <td>11.74</td>\n",
       "      <td>2.12</td>\n",
       "      <td>...</td>\n",
       "      <td>8.08</td>\n",
       "      <td>2.63</td>\n",
       "      <td>3.95</td>\n",
       "      <td>1.34</td>\n",
       "      <td>2.60</td>\n",
       "      <td>4.98</td>\n",
       "      <td>6.16</td>\n",
       "      <td>3.36</td>\n",
       "      <td>2.80</td>\n",
       "      <td>NaN</td>\n",
       "    </tr>\n",
       "    <tr>\n",
       "      <th>4</th>\n",
       "      <td>1001</td>\n",
       "      <td>2017-01-05</td>\n",
       "      <td>0.01</td>\n",
       "      <td>99.89</td>\n",
       "      <td>4.54</td>\n",
       "      <td>5.91</td>\n",
       "      <td>2.20</td>\n",
       "      <td>2.22</td>\n",
       "      <td>13.07</td>\n",
       "      <td>-0.18</td>\n",
       "      <td>...</td>\n",
       "      <td>5.85</td>\n",
       "      <td>1.76</td>\n",
       "      <td>2.76</td>\n",
       "      <td>0.47</td>\n",
       "      <td>2.28</td>\n",
       "      <td>3.43</td>\n",
       "      <td>4.70</td>\n",
       "      <td>0.66</td>\n",
       "      <td>4.04</td>\n",
       "      <td>NaN</td>\n",
       "    </tr>\n",
       "  </tbody>\n",
       "</table>\n",
       "<p>5 rows × 21 columns</p>\n",
       "</div>"
      ],
      "text/plain": [
       "   fips        date  PRECTOT      PS   QV2M    T2M  T2MDEW  T2MWET  T2M_MAX  \\\n",
       "0  1001  2017-01-01    32.50  100.02  10.47  14.69   14.47   14.47    17.68   \n",
       "1  1001  2017-01-02    63.52  100.04  12.75  17.96   17.75   17.75    20.30   \n",
       "2  1001  2017-01-03    18.82   99.69   9.74  14.24   13.44   13.44    18.48   \n",
       "3  1001  2017-01-04     0.01  100.02   5.21   8.10    3.86    3.88    11.74   \n",
       "4  1001  2017-01-05     0.01   99.89   4.54   5.91    2.20    2.22    13.07   \n",
       "\n",
       "   T2M_MIN  ...     TS  WS10M  WS10M_MAX  WS10M_MIN  WS10M_RANGE  WS50M  \\\n",
       "0    10.53  ...  14.63   2.14       2.71       1.52         1.19   4.40   \n",
       "1    16.14  ...  17.85   2.75       4.31       1.60         2.71   5.50   \n",
       "2     9.29  ...  14.06   2.25       3.73       1.64         2.09   4.80   \n",
       "3     2.12  ...   8.08   2.63       3.95       1.34         2.60   4.98   \n",
       "4    -0.18  ...   5.85   1.76       2.76       0.47         2.28   3.43   \n",
       "\n",
       "   WS50M_MAX  WS50M_MIN  WS50M_RANGE  score  \n",
       "0       5.96       2.25         3.71    NaN  \n",
       "1       8.16       4.05         4.11    NaN  \n",
       "2       7.27       2.54         4.72    2.0  \n",
       "3       6.16       3.36         2.80    NaN  \n",
       "4       4.70       0.66         4.04    NaN  \n",
       "\n",
       "[5 rows x 21 columns]"
      ]
     },
     "execution_count": 5,
     "metadata": {},
     "output_type": "execute_result"
    }
   ],
   "source": [
    "df_validation.head()"
   ]
  },
  {
   "cell_type": "markdown",
   "metadata": {
    "id": "IemoJoUE4yHJ",
    "jp-MarkdownHeadingCollapsed": true,
    "tags": []
   },
   "source": [
    "## **Analise Exploratória**"
   ]
  },
  {
   "cell_type": "code",
   "execution_count": 6,
   "metadata": {
    "colab": {
     "base_uri": "https://localhost:8080/",
     "height": 349
    },
    "id": "oTQKwIlE4gmd",
    "outputId": "bec8b892-8666-466f-938e-265765a4e839"
   },
   "outputs": [
    {
     "data": {
      "text/html": [
       "<div>\n",
       "<style scoped>\n",
       "    .dataframe tbody tr th:only-of-type {\n",
       "        vertical-align: middle;\n",
       "    }\n",
       "\n",
       "    .dataframe tbody tr th {\n",
       "        vertical-align: top;\n",
       "    }\n",
       "\n",
       "    .dataframe thead th {\n",
       "        text-align: right;\n",
       "    }\n",
       "</style>\n",
       "<table border=\"1\" class=\"dataframe\">\n",
       "  <thead>\n",
       "    <tr style=\"text-align: right;\">\n",
       "      <th></th>\n",
       "      <th>fips</th>\n",
       "      <th>PRECTOT</th>\n",
       "      <th>PS</th>\n",
       "      <th>QV2M</th>\n",
       "      <th>T2M</th>\n",
       "      <th>T2MDEW</th>\n",
       "      <th>T2MWET</th>\n",
       "      <th>T2M_MAX</th>\n",
       "      <th>T2M_MIN</th>\n",
       "      <th>T2M_RANGE</th>\n",
       "      <th>TS</th>\n",
       "      <th>WS10M</th>\n",
       "      <th>WS10M_MAX</th>\n",
       "      <th>WS10M_MIN</th>\n",
       "      <th>WS10M_RANGE</th>\n",
       "      <th>WS50M</th>\n",
       "      <th>WS50M_MAX</th>\n",
       "      <th>WS50M_MIN</th>\n",
       "      <th>WS50M_RANGE</th>\n",
       "      <th>score</th>\n",
       "    </tr>\n",
       "  </thead>\n",
       "  <tbody>\n",
       "    <tr>\n",
       "      <th>count</th>\n",
       "      <td>2.268840e+06</td>\n",
       "      <td>2.268840e+06</td>\n",
       "      <td>2.268840e+06</td>\n",
       "      <td>2.268840e+06</td>\n",
       "      <td>2.268840e+06</td>\n",
       "      <td>2.268840e+06</td>\n",
       "      <td>2.268840e+06</td>\n",
       "      <td>2.268840e+06</td>\n",
       "      <td>2.268840e+06</td>\n",
       "      <td>2.268840e+06</td>\n",
       "      <td>2.268840e+06</td>\n",
       "      <td>2.268840e+06</td>\n",
       "      <td>2.268840e+06</td>\n",
       "      <td>2.268840e+06</td>\n",
       "      <td>2.268840e+06</td>\n",
       "      <td>2.268840e+06</td>\n",
       "      <td>2.268840e+06</td>\n",
       "      <td>2.268840e+06</td>\n",
       "      <td>2.268840e+06</td>\n",
       "      <td>323232.000000</td>\n",
       "    </tr>\n",
       "    <tr>\n",
       "      <th>mean</th>\n",
       "      <td>3.067038e+04</td>\n",
       "      <td>2.945218e+00</td>\n",
       "      <td>9.668289e+01</td>\n",
       "      <td>8.209934e+00</td>\n",
       "      <td>1.313680e+01</td>\n",
       "      <td>7.626656e+00</td>\n",
       "      <td>7.631953e+00</td>\n",
       "      <td>1.884739e+01</td>\n",
       "      <td>7.903998e+00</td>\n",
       "      <td>1.094340e+01</td>\n",
       "      <td>1.321793e+01</td>\n",
       "      <td>3.533742e+00</td>\n",
       "      <td>5.165298e+00</td>\n",
       "      <td>1.904352e+00</td>\n",
       "      <td>3.260947e+00</td>\n",
       "      <td>5.486969e+00</td>\n",
       "      <td>7.762958e+00</td>\n",
       "      <td>3.104674e+00</td>\n",
       "      <td>4.658297e+00</td>\n",
       "      <td>0.538601</td>\n",
       "    </tr>\n",
       "    <tr>\n",
       "      <th>std</th>\n",
       "      <td>1.497911e+04</td>\n",
       "      <td>6.883588e+00</td>\n",
       "      <td>5.443892e+00</td>\n",
       "      <td>4.905189e+00</td>\n",
       "      <td>1.093575e+01</td>\n",
       "      <td>1.049740e+01</td>\n",
       "      <td>1.035683e+01</td>\n",
       "      <td>1.151619e+01</td>\n",
       "      <td>1.064708e+01</td>\n",
       "      <td>3.951253e+00</td>\n",
       "      <td>1.113432e+01</td>\n",
       "      <td>1.845010e+00</td>\n",
       "      <td>2.607319e+00</td>\n",
       "      <td>1.342821e+00</td>\n",
       "      <td>1.927159e+00</td>\n",
       "      <td>2.310433e+00</td>\n",
       "      <td>2.851491e+00</td>\n",
       "      <td>2.115034e+00</td>\n",
       "      <td>2.155684e+00</td>\n",
       "      <td>0.916711</td>\n",
       "    </tr>\n",
       "    <tr>\n",
       "      <th>min</th>\n",
       "      <td>1.001000e+03</td>\n",
       "      <td>0.000000e+00</td>\n",
       "      <td>6.686000e+01</td>\n",
       "      <td>1.600000e-01</td>\n",
       "      <td>-3.329000e+01</td>\n",
       "      <td>-3.701000e+01</td>\n",
       "      <td>-3.358000e+01</td>\n",
       "      <td>-2.859000e+01</td>\n",
       "      <td>-3.815000e+01</td>\n",
       "      <td>2.000000e-02</td>\n",
       "      <td>-3.548000e+01</td>\n",
       "      <td>3.700000e-01</td>\n",
       "      <td>6.000000e-01</td>\n",
       "      <td>0.000000e+00</td>\n",
       "      <td>2.200000e-01</td>\n",
       "      <td>4.600000e-01</td>\n",
       "      <td>8.700000e-01</td>\n",
       "      <td>0.000000e+00</td>\n",
       "      <td>3.000000e-01</td>\n",
       "      <td>0.000000</td>\n",
       "    </tr>\n",
       "    <tr>\n",
       "      <th>25%</th>\n",
       "      <td>1.904450e+04</td>\n",
       "      <td>0.000000e+00</td>\n",
       "      <td>9.588000e+01</td>\n",
       "      <td>3.920000e+00</td>\n",
       "      <td>4.670000e+00</td>\n",
       "      <td>-4.400000e-01</td>\n",
       "      <td>-4.800000e-01</td>\n",
       "      <td>1.035000e+01</td>\n",
       "      <td>-4.400000e-01</td>\n",
       "      <td>8.140000e+00</td>\n",
       "      <td>4.540000e+00</td>\n",
       "      <td>2.120000e+00</td>\n",
       "      <td>3.110000e+00</td>\n",
       "      <td>9.400000e-01</td>\n",
       "      <td>1.810000e+00</td>\n",
       "      <td>3.770000e+00</td>\n",
       "      <td>5.640000e+00</td>\n",
       "      <td>1.420000e+00</td>\n",
       "      <td>3.110000e+00</td>\n",
       "      <td>0.000000</td>\n",
       "    </tr>\n",
       "    <tr>\n",
       "      <th>50%</th>\n",
       "      <td>2.921200e+04</td>\n",
       "      <td>1.900000e-01</td>\n",
       "      <td>9.832000e+01</td>\n",
       "      <td>7.260000e+00</td>\n",
       "      <td>1.458000e+01</td>\n",
       "      <td>8.510000e+00</td>\n",
       "      <td>8.420000e+00</td>\n",
       "      <td>2.081000e+01</td>\n",
       "      <td>8.670000e+00</td>\n",
       "      <td>1.090000e+01</td>\n",
       "      <td>1.461000e+01</td>\n",
       "      <td>3.140000e+00</td>\n",
       "      <td>4.670000e+00</td>\n",
       "      <td>1.640000e+00</td>\n",
       "      <td>2.810000e+00</td>\n",
       "      <td>5.120000e+00</td>\n",
       "      <td>7.300000e+00</td>\n",
       "      <td>2.760000e+00</td>\n",
       "      <td>4.220000e+00</td>\n",
       "      <td>0.000000</td>\n",
       "    </tr>\n",
       "    <tr>\n",
       "      <th>75%</th>\n",
       "      <td>4.600750e+04</td>\n",
       "      <td>2.500000e+00</td>\n",
       "      <td>9.998000e+01</td>\n",
       "      <td>1.218000e+01</td>\n",
       "      <td>2.251000e+01</td>\n",
       "      <td>1.671000e+01</td>\n",
       "      <td>1.665000e+01</td>\n",
       "      <td>2.824000e+01</td>\n",
       "      <td>1.701000e+01</td>\n",
       "      <td>1.364000e+01</td>\n",
       "      <td>2.269000e+01</td>\n",
       "      <td>4.560000e+00</td>\n",
       "      <td>6.710000e+00</td>\n",
       "      <td>2.560000e+00</td>\n",
       "      <td>4.250000e+00</td>\n",
       "      <td>6.830000e+00</td>\n",
       "      <td>9.420000e+00</td>\n",
       "      <td>4.390000e+00</td>\n",
       "      <td>5.760000e+00</td>\n",
       "      <td>1.000000</td>\n",
       "    </tr>\n",
       "    <tr>\n",
       "      <th>max</th>\n",
       "      <td>5.604300e+04</td>\n",
       "      <td>2.433200e+02</td>\n",
       "      <td>1.040600e+02</td>\n",
       "      <td>2.198000e+01</td>\n",
       "      <td>4.062000e+01</td>\n",
       "      <td>2.684000e+01</td>\n",
       "      <td>2.684000e+01</td>\n",
       "      <td>5.003000e+01</td>\n",
       "      <td>3.304000e+01</td>\n",
       "      <td>3.319000e+01</td>\n",
       "      <td>4.325000e+01</td>\n",
       "      <td>2.494000e+01</td>\n",
       "      <td>3.176000e+01</td>\n",
       "      <td>1.629000e+01</td>\n",
       "      <td>2.319000e+01</td>\n",
       "      <td>2.952000e+01</td>\n",
       "      <td>3.738000e+01</td>\n",
       "      <td>2.085000e+01</td>\n",
       "      <td>2.890000e+01</td>\n",
       "      <td>5.000000</td>\n",
       "    </tr>\n",
       "  </tbody>\n",
       "</table>\n",
       "</div>"
      ],
      "text/plain": [
       "               fips       PRECTOT            PS          QV2M           T2M  \\\n",
       "count  2.268840e+06  2.268840e+06  2.268840e+06  2.268840e+06  2.268840e+06   \n",
       "mean   3.067038e+04  2.945218e+00  9.668289e+01  8.209934e+00  1.313680e+01   \n",
       "std    1.497911e+04  6.883588e+00  5.443892e+00  4.905189e+00  1.093575e+01   \n",
       "min    1.001000e+03  0.000000e+00  6.686000e+01  1.600000e-01 -3.329000e+01   \n",
       "25%    1.904450e+04  0.000000e+00  9.588000e+01  3.920000e+00  4.670000e+00   \n",
       "50%    2.921200e+04  1.900000e-01  9.832000e+01  7.260000e+00  1.458000e+01   \n",
       "75%    4.600750e+04  2.500000e+00  9.998000e+01  1.218000e+01  2.251000e+01   \n",
       "max    5.604300e+04  2.433200e+02  1.040600e+02  2.198000e+01  4.062000e+01   \n",
       "\n",
       "             T2MDEW        T2MWET       T2M_MAX       T2M_MIN     T2M_RANGE  \\\n",
       "count  2.268840e+06  2.268840e+06  2.268840e+06  2.268840e+06  2.268840e+06   \n",
       "mean   7.626656e+00  7.631953e+00  1.884739e+01  7.903998e+00  1.094340e+01   \n",
       "std    1.049740e+01  1.035683e+01  1.151619e+01  1.064708e+01  3.951253e+00   \n",
       "min   -3.701000e+01 -3.358000e+01 -2.859000e+01 -3.815000e+01  2.000000e-02   \n",
       "25%   -4.400000e-01 -4.800000e-01  1.035000e+01 -4.400000e-01  8.140000e+00   \n",
       "50%    8.510000e+00  8.420000e+00  2.081000e+01  8.670000e+00  1.090000e+01   \n",
       "75%    1.671000e+01  1.665000e+01  2.824000e+01  1.701000e+01  1.364000e+01   \n",
       "max    2.684000e+01  2.684000e+01  5.003000e+01  3.304000e+01  3.319000e+01   \n",
       "\n",
       "                 TS         WS10M     WS10M_MAX     WS10M_MIN   WS10M_RANGE  \\\n",
       "count  2.268840e+06  2.268840e+06  2.268840e+06  2.268840e+06  2.268840e+06   \n",
       "mean   1.321793e+01  3.533742e+00  5.165298e+00  1.904352e+00  3.260947e+00   \n",
       "std    1.113432e+01  1.845010e+00  2.607319e+00  1.342821e+00  1.927159e+00   \n",
       "min   -3.548000e+01  3.700000e-01  6.000000e-01  0.000000e+00  2.200000e-01   \n",
       "25%    4.540000e+00  2.120000e+00  3.110000e+00  9.400000e-01  1.810000e+00   \n",
       "50%    1.461000e+01  3.140000e+00  4.670000e+00  1.640000e+00  2.810000e+00   \n",
       "75%    2.269000e+01  4.560000e+00  6.710000e+00  2.560000e+00  4.250000e+00   \n",
       "max    4.325000e+01  2.494000e+01  3.176000e+01  1.629000e+01  2.319000e+01   \n",
       "\n",
       "              WS50M     WS50M_MAX     WS50M_MIN   WS50M_RANGE          score  \n",
       "count  2.268840e+06  2.268840e+06  2.268840e+06  2.268840e+06  323232.000000  \n",
       "mean   5.486969e+00  7.762958e+00  3.104674e+00  4.658297e+00       0.538601  \n",
       "std    2.310433e+00  2.851491e+00  2.115034e+00  2.155684e+00       0.916711  \n",
       "min    4.600000e-01  8.700000e-01  0.000000e+00  3.000000e-01       0.000000  \n",
       "25%    3.770000e+00  5.640000e+00  1.420000e+00  3.110000e+00       0.000000  \n",
       "50%    5.120000e+00  7.300000e+00  2.760000e+00  4.220000e+00       0.000000  \n",
       "75%    6.830000e+00  9.420000e+00  4.390000e+00  5.760000e+00       1.000000  \n",
       "max    2.952000e+01  3.738000e+01  2.085000e+01  2.890000e+01       5.000000  "
      ]
     },
     "execution_count": 6,
     "metadata": {},
     "output_type": "execute_result"
    }
   ],
   "source": [
    "df_validation.describe()"
   ]
  },
  {
   "cell_type": "markdown",
   "metadata": {
    "id": "VW81IEXi4gmd",
    "tags": []
   },
   "source": [
    "### Coluna fips"
   ]
  },
  {
   "cell_type": "code",
   "execution_count": 7,
   "metadata": {
    "colab": {
     "base_uri": "https://localhost:8080/",
     "height": 527
    },
    "id": "E4-DunBX4gmd",
    "outputId": "a875df39-93c6-4145-b2ac-624b6eb086df"
   },
   "outputs": [
    {
     "data": {
      "text/plain": [
       "0           1001\n",
       "1           1001\n",
       "2           1001\n",
       "3           1001\n",
       "4           1001\n",
       "           ...  \n",
       "2268835    56043\n",
       "2268836    56043\n",
       "2268837    56043\n",
       "2268838    56043\n",
       "2268839    56043\n",
       "Name: fips, Length: 2268840, dtype: int64"
      ]
     },
     "execution_count": 7,
     "metadata": {},
     "output_type": "execute_result"
    }
   ],
   "source": [
    "df_validation[\"fips\"]"
   ]
  },
  {
   "cell_type": "markdown",
   "metadata": {
    "id": "-R3p9_Ic4gme"
   },
   "source": [
    "Padrões emitidos para garantir segurança e interoperabilidade de computador em sistemas de criptografia (referente a locais dos EUA) [6]\n"
   ]
  },
  {
   "cell_type": "markdown",
   "metadata": {
    "id": "lL0q9Eu84gme",
    "tags": []
   },
   "source": [
    "### Coluna PRECTOT"
   ]
  },
  {
   "cell_type": "code",
   "execution_count": 8,
   "metadata": {
    "id": "AmOSUSts4gme"
   },
   "outputs": [
    {
     "data": {
      "text/plain": [
       "0          32.50\n",
       "1          63.52\n",
       "2          18.82\n",
       "3           0.01\n",
       "4           0.01\n",
       "           ...  \n",
       "2268835     0.14\n",
       "2268836     0.02\n",
       "2268837     0.34\n",
       "2268838     3.17\n",
       "2268839     1.39\n",
       "Name: PRECTOT, Length: 2268840, dtype: float64"
      ]
     },
     "execution_count": 8,
     "metadata": {},
     "output_type": "execute_result"
    }
   ],
   "source": [
    "df_validation[\"PRECTOT\"]"
   ]
  },
  {
   "cell_type": "markdown",
   "metadata": {
    "id": "WjVfIBoq4gme"
   },
   "source": [
    "Precipitação (mm; dia-1)"
   ]
  },
  {
   "cell_type": "markdown",
   "metadata": {
    "id": "iIWcjkW74gme",
    "tags": []
   },
   "source": [
    "### Coluna PS"
   ]
  },
  {
   "cell_type": "code",
   "execution_count": 9,
   "metadata": {
    "id": "Bn25Gebr4gme"
   },
   "outputs": [
    {
     "data": {
      "text/plain": [
       "0          100.02\n",
       "1          100.04\n",
       "2           99.69\n",
       "3          100.02\n",
       "4           99.89\n",
       "            ...  \n",
       "2268835     82.71\n",
       "2268836     83.14\n",
       "2268837     82.78\n",
       "2268838     81.97\n",
       "2268839     83.16\n",
       "Name: PS, Length: 2268840, dtype: float64"
      ]
     },
     "execution_count": 9,
     "metadata": {},
     "output_type": "execute_result"
    }
   ],
   "source": [
    "df_validation[\"PS\"]"
   ]
  },
  {
   "cell_type": "markdown",
   "metadata": {
    "id": "FugjqFZj4gmf"
   },
   "source": [
    "Pressão da superfície (kPa)"
   ]
  },
  {
   "cell_type": "markdown",
   "metadata": {
    "id": "VWh-d3-c4gmf",
    "tags": []
   },
   "source": [
    "### Coluna QV2M"
   ]
  },
  {
   "cell_type": "code",
   "execution_count": 10,
   "metadata": {
    "id": "ZEUAkfjf4gmf"
   },
   "outputs": [
    {
     "data": {
      "text/plain": [
       "0          10.47\n",
       "1          12.75\n",
       "2           9.74\n",
       "3           5.21\n",
       "4           4.54\n",
       "           ...  \n",
       "2268835     1.54\n",
       "2268836     1.32\n",
       "2268837     1.75\n",
       "2268838     2.72\n",
       "2268839     1.03\n",
       "Name: QV2M, Length: 2268840, dtype: float64"
      ]
     },
     "execution_count": 10,
     "metadata": {},
     "output_type": "execute_result"
    }
   ],
   "source": [
    "df_validation[\"QV2M\"]"
   ]
  },
  {
   "cell_type": "markdown",
   "metadata": {
    "id": "WHG8LrwT4gmf"
   },
   "source": [
    "Humidade específica a 2 metros (g/kg)"
   ]
  },
  {
   "cell_type": "markdown",
   "metadata": {
    "id": "2PPckRzX4gmf",
    "tags": []
   },
   "source": [
    "### Coluna T2M"
   ]
  },
  {
   "cell_type": "code",
   "execution_count": 11,
   "metadata": {
    "id": "UiiyRiB_4gmf"
   },
   "outputs": [
    {
     "data": {
      "text/plain": [
       "0          14.69\n",
       "1          17.96\n",
       "2          14.24\n",
       "3           8.10\n",
       "4           5.91\n",
       "           ...  \n",
       "2268835    -9.57\n",
       "2268836   -11.25\n",
       "2268837    -7.17\n",
       "2268838    -2.84\n",
       "2268839   -13.02\n",
       "Name: T2M, Length: 2268840, dtype: float64"
      ]
     },
     "execution_count": 11,
     "metadata": {},
     "output_type": "execute_result"
    }
   ],
   "source": [
    "df_validation[\"T2M\"]"
   ]
  },
  {
   "cell_type": "markdown",
   "metadata": {
    "id": "XicTEC6i4gmf"
   },
   "source": [
    "Temperatura a 2 metros (C)"
   ]
  },
  {
   "cell_type": "markdown",
   "metadata": {
    "id": "GKgVCen54gmg",
    "tags": []
   },
   "source": [
    "### Coluna T2MDEW"
   ]
  },
  {
   "cell_type": "code",
   "execution_count": 12,
   "metadata": {
    "id": "XIbuUNcU4gmg"
   },
   "outputs": [
    {
     "data": {
      "text/plain": [
       "0          14.47\n",
       "1          17.75\n",
       "2          13.44\n",
       "3           3.86\n",
       "4           2.20\n",
       "           ...  \n",
       "2268835   -14.20\n",
       "2268836   -15.98\n",
       "2268837   -12.62\n",
       "2268838    -7.14\n",
       "2268839   -18.93\n",
       "Name: T2MDEW, Length: 2268840, dtype: float64"
      ]
     },
     "execution_count": 12,
     "metadata": {},
     "output_type": "execute_result"
    }
   ],
   "source": [
    "df_validation[\"T2MDEW\"]"
   ]
  },
  {
   "cell_type": "markdown",
   "metadata": {
    "id": "ruMGbj2g4gmg"
   },
   "source": [
    "Ponto de orvalho a 2 metros (C)"
   ]
  },
  {
   "cell_type": "markdown",
   "metadata": {
    "id": "Hhb3brmP4gmg",
    "tags": []
   },
   "source": [
    "### Coluna T2MWET"
   ]
  },
  {
   "cell_type": "code",
   "execution_count": 13,
   "metadata": {
    "id": "Nog67jDW4gmg"
   },
   "outputs": [
    {
     "data": {
      "text/plain": [
       "0          14.47\n",
       "1          17.75\n",
       "2          13.44\n",
       "3           3.88\n",
       "4           2.22\n",
       "           ...  \n",
       "2268835   -13.09\n",
       "2268836   -14.57\n",
       "2268837   -12.17\n",
       "2268838    -6.95\n",
       "2268839   -16.97\n",
       "Name: T2MWET, Length: 2268840, dtype: float64"
      ]
     },
     "execution_count": 13,
     "metadata": {},
     "output_type": "execute_result"
    }
   ],
   "source": [
    "df_validation[\"T2MWET\"]"
   ]
  },
  {
   "cell_type": "markdown",
   "metadata": {
    "id": "7GZxdH2b4gmg"
   },
   "source": [
    "Temperatura do termômetro Wet Bulb a 2 metros (C)\n"
   ]
  },
  {
   "cell_type": "markdown",
   "metadata": {
    "id": "7AUPpK-k4gmg",
    "tags": []
   },
   "source": [
    "### Coluna T2M_MAX"
   ]
  },
  {
   "cell_type": "code",
   "execution_count": 14,
   "metadata": {
    "id": "2oj8Cpxt4gmg"
   },
   "outputs": [
    {
     "data": {
      "text/plain": [
       "0          17.68\n",
       "1          20.30\n",
       "2          18.48\n",
       "3          11.74\n",
       "4          13.07\n",
       "           ...  \n",
       "2268835    -6.23\n",
       "2268836    -7.03\n",
       "2268837     0.64\n",
       "2268838     2.14\n",
       "2268839    -9.70\n",
       "Name: T2M_MAX, Length: 2268840, dtype: float64"
      ]
     },
     "execution_count": 14,
     "metadata": {},
     "output_type": "execute_result"
    }
   ],
   "source": [
    "df_validation[\"T2M_MAX\"]"
   ]
  },
  {
   "cell_type": "markdown",
   "metadata": {
    "id": "3_1nK_7f4gmg"
   },
   "source": [
    "Temperatura máxima a 2 metros (C)"
   ]
  },
  {
   "cell_type": "markdown",
   "metadata": {
    "id": "rWsnumM94gmh",
    "tags": []
   },
   "source": [
    "### Coluna T2M_MIN"
   ]
  },
  {
   "cell_type": "code",
   "execution_count": 15,
   "metadata": {
    "id": "Ezjnxt814gmh"
   },
   "outputs": [
    {
     "data": {
      "text/plain": [
       "0          10.53\n",
       "1          16.14\n",
       "2           9.29\n",
       "3           2.12\n",
       "4          -0.18\n",
       "           ...  \n",
       "2268835   -12.06\n",
       "2268836   -14.33\n",
       "2268837   -14.85\n",
       "2268838    -8.49\n",
       "2268839   -16.67\n",
       "Name: T2M_MIN, Length: 2268840, dtype: float64"
      ]
     },
     "execution_count": 15,
     "metadata": {},
     "output_type": "execute_result"
    }
   ],
   "source": [
    "df_validation[\"T2M_MIN\"]"
   ]
  },
  {
   "cell_type": "markdown",
   "metadata": {
    "id": "OooObNoQ4gmh"
   },
   "source": [
    "Temperatura mínima a 2 metros (C)"
   ]
  },
  {
   "cell_type": "markdown",
   "metadata": {
    "id": "mSEEqral4gmh",
    "tags": []
   },
   "source": [
    "### Coluna T2M_RANGE"
   ]
  },
  {
   "cell_type": "code",
   "execution_count": 16,
   "metadata": {
    "id": "5LBkhtTn4gmh"
   },
   "outputs": [
    {
     "data": {
      "text/plain": [
       "0           7.15\n",
       "1           4.16\n",
       "2           9.20\n",
       "3           9.62\n",
       "4          13.24\n",
       "           ...  \n",
       "2268835     5.82\n",
       "2268836     7.30\n",
       "2268837    15.50\n",
       "2268838    10.62\n",
       "2268839     6.96\n",
       "Name: T2M_RANGE, Length: 2268840, dtype: float64"
      ]
     },
     "execution_count": 16,
     "metadata": {},
     "output_type": "execute_result"
    }
   ],
   "source": [
    "df_validation[\"T2M_RANGE\"]"
   ]
  },
  {
   "cell_type": "markdown",
   "metadata": {
    "id": "6_lWr-Fv4gmh"
   },
   "source": [
    "Faixa de temperatura a 2 metros (C)"
   ]
  },
  {
   "cell_type": "markdown",
   "metadata": {
    "id": "S5OL0dr34gmn",
    "tags": []
   },
   "source": [
    "### Coluna TS"
   ]
  },
  {
   "cell_type": "code",
   "execution_count": 17,
   "metadata": {
    "id": "WUZyLpZD4gmn"
   },
   "outputs": [
    {
     "data": {
      "text/plain": [
       "0          14.63\n",
       "1          17.85\n",
       "2          14.06\n",
       "3           8.08\n",
       "4           5.85\n",
       "           ...  \n",
       "2268835   -10.10\n",
       "2268836   -12.36\n",
       "2268837    -8.09\n",
       "2268838    -3.63\n",
       "2268839   -13.06\n",
       "Name: TS, Length: 2268840, dtype: float64"
      ]
     },
     "execution_count": 17,
     "metadata": {},
     "output_type": "execute_result"
    }
   ],
   "source": [
    "df_validation[\"TS\"]"
   ]
  },
  {
   "cell_type": "markdown",
   "metadata": {
    "id": "00i2FW-d4gmn"
   },
   "source": [
    "Temperatura da crosta da Terra (C)"
   ]
  },
  {
   "cell_type": "markdown",
   "metadata": {
    "id": "ImR99TqC4gmn",
    "tags": []
   },
   "source": [
    "### Coluna WS10M"
   ]
  },
  {
   "cell_type": "code",
   "execution_count": 18,
   "metadata": {
    "id": "FfCmjID54gmo"
   },
   "outputs": [
    {
     "data": {
      "text/plain": [
       "0          2.14\n",
       "1          2.75\n",
       "2          2.25\n",
       "3          2.63\n",
       "4          1.76\n",
       "           ... \n",
       "2268835    2.01\n",
       "2268836    1.66\n",
       "2268837    3.64\n",
       "2268838    5.26\n",
       "2268839    4.53\n",
       "Name: WS10M, Length: 2268840, dtype: float64"
      ]
     },
     "execution_count": 18,
     "metadata": {},
     "output_type": "execute_result"
    }
   ],
   "source": [
    "df_validation[\"WS10M\"]"
   ]
  },
  {
   "cell_type": "markdown",
   "metadata": {
    "id": "Nm6FUz0f4gmo"
   },
   "source": [
    "Velocidade do vento a 10 metros (m/s)"
   ]
  },
  {
   "cell_type": "markdown",
   "metadata": {
    "id": "L1C9dJi04gmo",
    "tags": []
   },
   "source": [
    "### Coluna WS10M_MAX"
   ]
  },
  {
   "cell_type": "code",
   "execution_count": 19,
   "metadata": {
    "id": "4FPqmyoM4gmo"
   },
   "outputs": [
    {
     "data": {
      "text/plain": [
       "0           2.71\n",
       "1           4.31\n",
       "2           3.73\n",
       "3           3.95\n",
       "4           2.76\n",
       "           ...  \n",
       "2268835     3.56\n",
       "2268836     3.12\n",
       "2268837     4.71\n",
       "2268838    11.19\n",
       "2268839     9.66\n",
       "Name: WS10M_MAX, Length: 2268840, dtype: float64"
      ]
     },
     "execution_count": 19,
     "metadata": {},
     "output_type": "execute_result"
    }
   ],
   "source": [
    "df_validation[\"WS10M_MAX\"]"
   ]
  },
  {
   "cell_type": "markdown",
   "metadata": {
    "id": "BOE6DREo4gmo"
   },
   "source": [
    "Velocidade do vento máxima a 10 metros (m/s)"
   ]
  },
  {
   "cell_type": "markdown",
   "metadata": {
    "id": "NbZM7DhG4gmo",
    "tags": []
   },
   "source": [
    "### Coluna WS10M_MIN"
   ]
  },
  {
   "cell_type": "code",
   "execution_count": 20,
   "metadata": {
    "id": "BhRf6HvH4gmo"
   },
   "outputs": [
    {
     "data": {
      "text/plain": [
       "0          1.52\n",
       "1          1.60\n",
       "2          1.64\n",
       "3          1.34\n",
       "4          0.47\n",
       "           ... \n",
       "2268835    0.23\n",
       "2268836    0.09\n",
       "2268837    2.47\n",
       "2268838    1.70\n",
       "2268839    0.82\n",
       "Name: WS10M_MIN, Length: 2268840, dtype: float64"
      ]
     },
     "execution_count": 20,
     "metadata": {},
     "output_type": "execute_result"
    }
   ],
   "source": [
    "df_validation[\"WS10M_MIN\"]"
   ]
  },
  {
   "cell_type": "markdown",
   "metadata": {
    "id": "KKl4BQdr4gmo"
   },
   "source": [
    "Velocidade do vento mínima a 10 metros (m/s)"
   ]
  },
  {
   "cell_type": "markdown",
   "metadata": {
    "id": "6N_O_hTs4gmp",
    "tags": []
   },
   "source": [
    "### Coluna WS10M_RANGE"
   ]
  },
  {
   "cell_type": "code",
   "execution_count": 21,
   "metadata": {
    "id": "L06NZOru4gmp"
   },
   "outputs": [
    {
     "data": {
      "text/plain": [
       "0          1.19\n",
       "1          2.71\n",
       "2          2.09\n",
       "3          2.60\n",
       "4          2.28\n",
       "           ... \n",
       "2268835    3.33\n",
       "2268836    3.04\n",
       "2268837    2.24\n",
       "2268838    9.49\n",
       "2268839    8.84\n",
       "Name: WS10M_RANGE, Length: 2268840, dtype: float64"
      ]
     },
     "execution_count": 21,
     "metadata": {},
     "output_type": "execute_result"
    }
   ],
   "source": [
    "df_validation[\"WS10M_RANGE\"]"
   ]
  },
  {
   "cell_type": "markdown",
   "metadata": {
    "id": "vZLvhuhU4gmp"
   },
   "source": [
    "Faixa de velocidade do vento a 10 metros (m/s)"
   ]
  },
  {
   "cell_type": "markdown",
   "metadata": {
    "id": "IsqSQkqL4gmp",
    "tags": []
   },
   "source": [
    "### Coluna WS50M"
   ]
  },
  {
   "cell_type": "code",
   "execution_count": 22,
   "metadata": {
    "id": "eGuAoFD24gmp"
   },
   "outputs": [
    {
     "data": {
      "text/plain": [
       "0          4.40\n",
       "1          5.50\n",
       "2          4.80\n",
       "3          4.98\n",
       "4          3.43\n",
       "           ... \n",
       "2268835    2.67\n",
       "2268836    2.40\n",
       "2268837    5.58\n",
       "2268838    7.56\n",
       "2268839    5.51\n",
       "Name: WS50M, Length: 2268840, dtype: float64"
      ]
     },
     "execution_count": 22,
     "metadata": {},
     "output_type": "execute_result"
    }
   ],
   "source": [
    "df_validation[\"WS50M\"]"
   ]
  },
  {
   "cell_type": "markdown",
   "metadata": {
    "id": "6Zjxdnhm4gmp"
   },
   "source": [
    "Velocidade do vento a 50 metros (m/s)"
   ]
  },
  {
   "cell_type": "markdown",
   "metadata": {
    "id": "TVn8_goY4gmq",
    "tags": []
   },
   "source": [
    "### Coluna WS50M_MAX"
   ]
  },
  {
   "cell_type": "code",
   "execution_count": 23,
   "metadata": {
    "id": "j043_KSR4gmq"
   },
   "outputs": [
    {
     "data": {
      "text/plain": [
       "0           5.96\n",
       "1           8.16\n",
       "2           7.27\n",
       "3           6.16\n",
       "4           4.70\n",
       "           ...  \n",
       "2268835     4.70\n",
       "2268836     5.58\n",
       "2268837     7.61\n",
       "2268838    13.59\n",
       "2268839    11.90\n",
       "Name: WS50M_MAX, Length: 2268840, dtype: float64"
      ]
     },
     "execution_count": 23,
     "metadata": {},
     "output_type": "execute_result"
    }
   ],
   "source": [
    "df_validation[\"WS50M_MAX\"]"
   ]
  },
  {
   "cell_type": "markdown",
   "metadata": {
    "id": "tfxB8WrA4gmq"
   },
   "source": [
    " Velocidade do vento máxima a 50 metros (m/s)"
   ]
  },
  {
   "cell_type": "markdown",
   "metadata": {
    "id": "1mhlJlua4gmq",
    "tags": []
   },
   "source": [
    "### Coluna WS50M_MIN"
   ]
  },
  {
   "cell_type": "code",
   "execution_count": 24,
   "metadata": {
    "id": "weNQjrn84gmq"
   },
   "outputs": [
    {
     "data": {
      "text/plain": [
       "0          2.25\n",
       "1          4.05\n",
       "2          2.54\n",
       "3          3.36\n",
       "4          0.66\n",
       "           ... \n",
       "2268835    0.28\n",
       "2268836    0.08\n",
       "2268837    4.15\n",
       "2268838    3.11\n",
       "2268839    0.96\n",
       "Name: WS50M_MIN, Length: 2268840, dtype: float64"
      ]
     },
     "execution_count": 24,
     "metadata": {},
     "output_type": "execute_result"
    }
   ],
   "source": [
    "df_validation[\"WS50M_MIN\"]"
   ]
  },
  {
   "cell_type": "markdown",
   "metadata": {
    "id": "M8Vbmo2I4gmq"
   },
   "source": [
    "Velocidade do vento mínima a 50 metros (m/s)"
   ]
  },
  {
   "cell_type": "markdown",
   "metadata": {
    "id": "DeD4MWTC4gmq",
    "tags": []
   },
   "source": [
    "### Coluna WS50M_RANGE"
   ]
  },
  {
   "cell_type": "code",
   "execution_count": 25,
   "metadata": {
    "id": "EuewhYMq4gmq"
   },
   "outputs": [
    {
     "data": {
      "text/plain": [
       "0           3.71\n",
       "1           4.11\n",
       "2           4.72\n",
       "3           2.80\n",
       "4           4.04\n",
       "           ...  \n",
       "2268835     4.42\n",
       "2268836     5.50\n",
       "2268837     3.46\n",
       "2268838    10.49\n",
       "2268839    10.94\n",
       "Name: WS50M_RANGE, Length: 2268840, dtype: float64"
      ]
     },
     "execution_count": 25,
     "metadata": {},
     "output_type": "execute_result"
    }
   ],
   "source": [
    "df_validation[\"WS50M_RANGE\"]"
   ]
  },
  {
   "cell_type": "markdown",
   "metadata": {
    "id": "v_R6ac8r4gmr"
   },
   "source": [
    "Faixa de velocidade do vento a 50 metros (m/s)"
   ]
  },
  {
   "cell_type": "markdown",
   "metadata": {
    "id": "bbnWaeAS4gmr",
    "tags": []
   },
   "source": [
    "### Coluna score"
   ]
  },
  {
   "cell_type": "code",
   "execution_count": 26,
   "metadata": {
    "id": "ur1Ysq5s4gmr"
   },
   "outputs": [
    {
     "data": {
      "text/plain": [
       "0          NaN\n",
       "1          NaN\n",
       "2          2.0\n",
       "3          NaN\n",
       "4          NaN\n",
       "          ... \n",
       "2268835    NaN\n",
       "2268836    NaN\n",
       "2268837    NaN\n",
       "2268838    NaN\n",
       "2268839    NaN\n",
       "Name: score, Length: 2268840, dtype: float64"
      ]
     },
     "execution_count": 26,
     "metadata": {},
     "output_type": "execute_result"
    }
   ],
   "source": [
    "df_validation[\"score\"]"
   ]
  },
  {
   "cell_type": "markdown",
   "metadata": {
    "id": "SuI7qTnR4gmr"
   },
   "source": [
    "Medidas de seca (0-5; a cada 7 dias)"
   ]
  },
  {
   "cell_type": "markdown",
   "metadata": {
    "id": "lcRxfkeHf-9v"
   },
   "source": [
    "## **Trabalhando com o dataset.**"
   ]
  },
  {
   "cell_type": "markdown",
   "metadata": {
    "id": "y6xU0YR7_5QV"
   },
   "source": [
    "### Correção de dados"
   ]
  },
  {
   "cell_type": "code",
   "execution_count": 27,
   "metadata": {
    "colab": {
     "base_uri": "https://localhost:8080/"
    },
    "id": "0uNx-c5mTnYy",
    "outputId": "8fb1d61c-545b-474f-db5f-856c5c3edcb2"
   },
   "outputs": [
    {
     "data": {
      "text/plain": [
       "fips                 0\n",
       "date                 0\n",
       "PRECTOT              0\n",
       "PS                   0\n",
       "QV2M                 0\n",
       "T2M                  0\n",
       "T2MDEW               0\n",
       "T2MWET               0\n",
       "T2M_MAX              0\n",
       "T2M_MIN              0\n",
       "T2M_RANGE            0\n",
       "TS                   0\n",
       "WS10M                0\n",
       "WS10M_MAX            0\n",
       "WS10M_MIN            0\n",
       "WS10M_RANGE          0\n",
       "WS50M                0\n",
       "WS50M_MAX            0\n",
       "WS50M_MIN            0\n",
       "WS50M_RANGE          0\n",
       "score          1945608\n",
       "dtype: int64"
      ]
     },
     "execution_count": 27,
     "metadata": {},
     "output_type": "execute_result"
    }
   ],
   "source": [
    "df_validation.isnull().sum()    # Verificando se há valores NaN e quantos são."
   ]
  },
  {
   "cell_type": "code",
   "execution_count": 28,
   "metadata": {
    "id": "F9Nd7ZSqTwfO"
   },
   "outputs": [],
   "source": [
    "df_validation = df_validation.dropna()  # Retirando os valores nulos."
   ]
  },
  {
   "cell_type": "code",
   "execution_count": 29,
   "metadata": {
    "colab": {
     "base_uri": "https://localhost:8080/"
    },
    "id": "bQkZuja2UoyM",
    "outputId": "382c4c45-b4f8-41bd-8715-96e936340f88"
   },
   "outputs": [
    {
     "data": {
      "text/plain": [
       "3108"
      ]
     },
     "execution_count": 29,
     "metadata": {},
     "output_type": "execute_result"
    }
   ],
   "source": [
    "df_validation['fips'].nunique()    # Quantos valores unicos a coluna fips possui."
   ]
  },
  {
   "cell_type": "markdown",
   "metadata": {
    "id": "gv7LecCPAuVF"
   },
   "source": [
    "### Analisando e definido algumas variaveis."
   ]
  },
  {
   "cell_type": "code",
   "execution_count": 30,
   "metadata": {
    "colab": {
     "base_uri": "https://localhost:8080/"
    },
    "id": "wInnLITz9zBK",
    "outputId": "b4f8ca9a-4949-486c-d667-9a1ab1ba6e04"
   },
   "outputs": [],
   "source": [
    "#Tranformação da coluna 'date' em três outras, categoricas: Day, month e year.\n",
    "df_validation['year'] = pd.DatetimeIndex(df_validation['date']).year\n",
    "df_validation['month'] = pd.DatetimeIndex(df_validation['date']).month\n",
    "df_validation['day'] = pd.DatetimeIndex(df_validation['date']).day\n",
    "df_validation['score'] = df_validation['score'].round().astype(int)        #Arredondando o valor do score para inteiros, para que se possa assim, trabalhar com classes ao invés de ints. ."
   ]
  },
  {
   "cell_type": "code",
   "execution_count": 31,
   "metadata": {
    "colab": {
     "base_uri": "https://localhost:8080/",
     "height": 516
    },
    "id": "ckyyZA8gEIAn",
    "outputId": "865a6c03-71fa-424d-b530-c961a7892a08"
   },
   "outputs": [
    {
     "name": "stderr",
     "output_type": "stream",
     "text": [
      "C:\\Users\\daniel23020\\AppData\\Local\\Temp\\ipykernel_9448\\495008246.py:1: FutureWarning: In a future version of pandas all arguments of DataFrame.drop except for the argument 'labels' will be keyword-only.\n",
      "  df_validation = df_validation.drop('fips', 1)   # Como a coluna \"fips\" indica condados dos EUA e queremos traçar relações entre indicadores climaticos, retiraremos essa coluna.\n",
      "C:\\Users\\daniel23020\\AppData\\Local\\Temp\\ipykernel_9448\\495008246.py:2: FutureWarning: In a future version of pandas all arguments of DataFrame.drop except for the argument 'labels' will be keyword-only.\n",
      "  df_validation = df_validation.drop('date', 1)   # A coluna \"date\" já está sendo contemplada nas 3 novas colunas criadas \"year\",\"month\" e \"day\"\n"
     ]
    },
    {
     "data": {
      "text/html": [
       "<div>\n",
       "<style scoped>\n",
       "    .dataframe tbody tr th:only-of-type {\n",
       "        vertical-align: middle;\n",
       "    }\n",
       "\n",
       "    .dataframe tbody tr th {\n",
       "        vertical-align: top;\n",
       "    }\n",
       "\n",
       "    .dataframe thead th {\n",
       "        text-align: right;\n",
       "    }\n",
       "</style>\n",
       "<table border=\"1\" class=\"dataframe\">\n",
       "  <thead>\n",
       "    <tr style=\"text-align: right;\">\n",
       "      <th></th>\n",
       "      <th>PRECTOT</th>\n",
       "      <th>PS</th>\n",
       "      <th>QV2M</th>\n",
       "      <th>T2M</th>\n",
       "      <th>T2MDEW</th>\n",
       "      <th>T2MWET</th>\n",
       "      <th>T2M_MAX</th>\n",
       "      <th>T2M_MIN</th>\n",
       "      <th>T2M_RANGE</th>\n",
       "      <th>TS</th>\n",
       "      <th>...</th>\n",
       "      <th>WS10M_MIN</th>\n",
       "      <th>WS10M_RANGE</th>\n",
       "      <th>WS50M</th>\n",
       "      <th>WS50M_MAX</th>\n",
       "      <th>WS50M_MIN</th>\n",
       "      <th>WS50M_RANGE</th>\n",
       "      <th>score</th>\n",
       "      <th>year</th>\n",
       "      <th>month</th>\n",
       "      <th>day</th>\n",
       "    </tr>\n",
       "  </thead>\n",
       "  <tbody>\n",
       "    <tr>\n",
       "      <th>2</th>\n",
       "      <td>18.82</td>\n",
       "      <td>99.69</td>\n",
       "      <td>9.74</td>\n",
       "      <td>14.24</td>\n",
       "      <td>13.44</td>\n",
       "      <td>13.44</td>\n",
       "      <td>18.48</td>\n",
       "      <td>9.29</td>\n",
       "      <td>9.20</td>\n",
       "      <td>14.06</td>\n",
       "      <td>...</td>\n",
       "      <td>1.64</td>\n",
       "      <td>2.09</td>\n",
       "      <td>4.80</td>\n",
       "      <td>7.27</td>\n",
       "      <td>2.54</td>\n",
       "      <td>4.72</td>\n",
       "      <td>2</td>\n",
       "      <td>2017</td>\n",
       "      <td>1</td>\n",
       "      <td>3</td>\n",
       "    </tr>\n",
       "    <tr>\n",
       "      <th>9</th>\n",
       "      <td>0.02</td>\n",
       "      <td>101.13</td>\n",
       "      <td>5.62</td>\n",
       "      <td>5.92</td>\n",
       "      <td>4.54</td>\n",
       "      <td>4.55</td>\n",
       "      <td>12.42</td>\n",
       "      <td>-2.37</td>\n",
       "      <td>14.79</td>\n",
       "      <td>5.81</td>\n",
       "      <td>...</td>\n",
       "      <td>2.52</td>\n",
       "      <td>1.72</td>\n",
       "      <td>6.19</td>\n",
       "      <td>7.55</td>\n",
       "      <td>4.68</td>\n",
       "      <td>2.86</td>\n",
       "      <td>2</td>\n",
       "      <td>2017</td>\n",
       "      <td>1</td>\n",
       "      <td>10</td>\n",
       "    </tr>\n",
       "    <tr>\n",
       "      <th>16</th>\n",
       "      <td>0.14</td>\n",
       "      <td>100.60</td>\n",
       "      <td>11.41</td>\n",
       "      <td>17.21</td>\n",
       "      <td>16.06</td>\n",
       "      <td>16.06</td>\n",
       "      <td>23.03</td>\n",
       "      <td>13.15</td>\n",
       "      <td>9.88</td>\n",
       "      <td>17.10</td>\n",
       "      <td>...</td>\n",
       "      <td>1.71</td>\n",
       "      <td>1.90</td>\n",
       "      <td>4.93</td>\n",
       "      <td>5.90</td>\n",
       "      <td>2.76</td>\n",
       "      <td>3.15</td>\n",
       "      <td>2</td>\n",
       "      <td>2017</td>\n",
       "      <td>1</td>\n",
       "      <td>17</td>\n",
       "    </tr>\n",
       "    <tr>\n",
       "      <th>23</th>\n",
       "      <td>0.00</td>\n",
       "      <td>99.72</td>\n",
       "      <td>5.60</td>\n",
       "      <td>9.27</td>\n",
       "      <td>5.34</td>\n",
       "      <td>5.35</td>\n",
       "      <td>16.23</td>\n",
       "      <td>4.18</td>\n",
       "      <td>12.06</td>\n",
       "      <td>8.95</td>\n",
       "      <td>...</td>\n",
       "      <td>1.03</td>\n",
       "      <td>1.31</td>\n",
       "      <td>3.52</td>\n",
       "      <td>6.49</td>\n",
       "      <td>1.47</td>\n",
       "      <td>5.02</td>\n",
       "      <td>1</td>\n",
       "      <td>2017</td>\n",
       "      <td>1</td>\n",
       "      <td>24</td>\n",
       "    </tr>\n",
       "    <tr>\n",
       "      <th>30</th>\n",
       "      <td>0.00</td>\n",
       "      <td>100.37</td>\n",
       "      <td>7.31</td>\n",
       "      <td>11.38</td>\n",
       "      <td>9.21</td>\n",
       "      <td>9.21</td>\n",
       "      <td>20.29</td>\n",
       "      <td>5.05</td>\n",
       "      <td>15.24</td>\n",
       "      <td>11.32</td>\n",
       "      <td>...</td>\n",
       "      <td>1.76</td>\n",
       "      <td>1.24</td>\n",
       "      <td>5.00</td>\n",
       "      <td>7.40</td>\n",
       "      <td>2.88</td>\n",
       "      <td>4.52</td>\n",
       "      <td>1</td>\n",
       "      <td>2017</td>\n",
       "      <td>1</td>\n",
       "      <td>31</td>\n",
       "    </tr>\n",
       "    <tr>\n",
       "      <th>...</th>\n",
       "      <td>...</td>\n",
       "      <td>...</td>\n",
       "      <td>...</td>\n",
       "      <td>...</td>\n",
       "      <td>...</td>\n",
       "      <td>...</td>\n",
       "      <td>...</td>\n",
       "      <td>...</td>\n",
       "      <td>...</td>\n",
       "      <td>...</td>\n",
       "      <td>...</td>\n",
       "      <td>...</td>\n",
       "      <td>...</td>\n",
       "      <td>...</td>\n",
       "      <td>...</td>\n",
       "      <td>...</td>\n",
       "      <td>...</td>\n",
       "      <td>...</td>\n",
       "      <td>...</td>\n",
       "      <td>...</td>\n",
       "      <td>...</td>\n",
       "    </tr>\n",
       "    <tr>\n",
       "      <th>2268805</th>\n",
       "      <td>0.21</td>\n",
       "      <td>82.62</td>\n",
       "      <td>2.88</td>\n",
       "      <td>-0.63</td>\n",
       "      <td>-6.30</td>\n",
       "      <td>-6.25</td>\n",
       "      <td>5.40</td>\n",
       "      <td>-5.43</td>\n",
       "      <td>10.83</td>\n",
       "      <td>-1.94</td>\n",
       "      <td>...</td>\n",
       "      <td>2.93</td>\n",
       "      <td>2.51</td>\n",
       "      <td>6.21</td>\n",
       "      <td>9.43</td>\n",
       "      <td>4.63</td>\n",
       "      <td>4.80</td>\n",
       "      <td>0</td>\n",
       "      <td>2018</td>\n",
       "      <td>11</td>\n",
       "      <td>27</td>\n",
       "    </tr>\n",
       "    <tr>\n",
       "      <th>2268812</th>\n",
       "      <td>0.01</td>\n",
       "      <td>83.32</td>\n",
       "      <td>1.47</td>\n",
       "      <td>-7.66</td>\n",
       "      <td>-14.71</td>\n",
       "      <td>-13.42</td>\n",
       "      <td>-1.41</td>\n",
       "      <td>-11.86</td>\n",
       "      <td>10.45</td>\n",
       "      <td>-8.96</td>\n",
       "      <td>...</td>\n",
       "      <td>2.20</td>\n",
       "      <td>3.03</td>\n",
       "      <td>4.82</td>\n",
       "      <td>6.46</td>\n",
       "      <td>3.79</td>\n",
       "      <td>2.67</td>\n",
       "      <td>0</td>\n",
       "      <td>2018</td>\n",
       "      <td>12</td>\n",
       "      <td>4</td>\n",
       "    </tr>\n",
       "    <tr>\n",
       "      <th>2268819</th>\n",
       "      <td>0.06</td>\n",
       "      <td>82.94</td>\n",
       "      <td>2.12</td>\n",
       "      <td>-3.04</td>\n",
       "      <td>-10.21</td>\n",
       "      <td>-9.60</td>\n",
       "      <td>2.45</td>\n",
       "      <td>-6.68</td>\n",
       "      <td>9.13</td>\n",
       "      <td>-4.08</td>\n",
       "      <td>...</td>\n",
       "      <td>2.07</td>\n",
       "      <td>3.01</td>\n",
       "      <td>5.69</td>\n",
       "      <td>8.44</td>\n",
       "      <td>3.42</td>\n",
       "      <td>5.01</td>\n",
       "      <td>0</td>\n",
       "      <td>2018</td>\n",
       "      <td>12</td>\n",
       "      <td>11</td>\n",
       "    </tr>\n",
       "    <tr>\n",
       "      <th>2268826</th>\n",
       "      <td>0.06</td>\n",
       "      <td>82.77</td>\n",
       "      <td>3.09</td>\n",
       "      <td>0.69</td>\n",
       "      <td>-5.36</td>\n",
       "      <td>-5.17</td>\n",
       "      <td>5.77</td>\n",
       "      <td>-4.12</td>\n",
       "      <td>9.89</td>\n",
       "      <td>-1.31</td>\n",
       "      <td>...</td>\n",
       "      <td>2.04</td>\n",
       "      <td>2.65</td>\n",
       "      <td>5.79</td>\n",
       "      <td>7.52</td>\n",
       "      <td>3.47</td>\n",
       "      <td>4.05</td>\n",
       "      <td>0</td>\n",
       "      <td>2018</td>\n",
       "      <td>12</td>\n",
       "      <td>18</td>\n",
       "    </tr>\n",
       "    <tr>\n",
       "      <th>2268833</th>\n",
       "      <td>1.64</td>\n",
       "      <td>82.71</td>\n",
       "      <td>2.80</td>\n",
       "      <td>-4.00</td>\n",
       "      <td>-6.68</td>\n",
       "      <td>-6.41</td>\n",
       "      <td>0.53</td>\n",
       "      <td>-7.55</td>\n",
       "      <td>8.08</td>\n",
       "      <td>-5.23</td>\n",
       "      <td>...</td>\n",
       "      <td>0.20</td>\n",
       "      <td>4.78</td>\n",
       "      <td>4.28</td>\n",
       "      <td>6.06</td>\n",
       "      <td>0.35</td>\n",
       "      <td>5.70</td>\n",
       "      <td>0</td>\n",
       "      <td>2018</td>\n",
       "      <td>12</td>\n",
       "      <td>25</td>\n",
       "    </tr>\n",
       "  </tbody>\n",
       "</table>\n",
       "<p>323232 rows × 22 columns</p>\n",
       "</div>"
      ],
      "text/plain": [
       "         PRECTOT      PS   QV2M    T2M  T2MDEW  T2MWET  T2M_MAX  T2M_MIN  \\\n",
       "2          18.82   99.69   9.74  14.24   13.44   13.44    18.48     9.29   \n",
       "9           0.02  101.13   5.62   5.92    4.54    4.55    12.42    -2.37   \n",
       "16          0.14  100.60  11.41  17.21   16.06   16.06    23.03    13.15   \n",
       "23          0.00   99.72   5.60   9.27    5.34    5.35    16.23     4.18   \n",
       "30          0.00  100.37   7.31  11.38    9.21    9.21    20.29     5.05   \n",
       "...          ...     ...    ...    ...     ...     ...      ...      ...   \n",
       "2268805     0.21   82.62   2.88  -0.63   -6.30   -6.25     5.40    -5.43   \n",
       "2268812     0.01   83.32   1.47  -7.66  -14.71  -13.42    -1.41   -11.86   \n",
       "2268819     0.06   82.94   2.12  -3.04  -10.21   -9.60     2.45    -6.68   \n",
       "2268826     0.06   82.77   3.09   0.69   -5.36   -5.17     5.77    -4.12   \n",
       "2268833     1.64   82.71   2.80  -4.00   -6.68   -6.41     0.53    -7.55   \n",
       "\n",
       "         T2M_RANGE     TS  ...  WS10M_MIN  WS10M_RANGE  WS50M  WS50M_MAX  \\\n",
       "2             9.20  14.06  ...       1.64         2.09   4.80       7.27   \n",
       "9            14.79   5.81  ...       2.52         1.72   6.19       7.55   \n",
       "16            9.88  17.10  ...       1.71         1.90   4.93       5.90   \n",
       "23           12.06   8.95  ...       1.03         1.31   3.52       6.49   \n",
       "30           15.24  11.32  ...       1.76         1.24   5.00       7.40   \n",
       "...            ...    ...  ...        ...          ...    ...        ...   \n",
       "2268805      10.83  -1.94  ...       2.93         2.51   6.21       9.43   \n",
       "2268812      10.45  -8.96  ...       2.20         3.03   4.82       6.46   \n",
       "2268819       9.13  -4.08  ...       2.07         3.01   5.69       8.44   \n",
       "2268826       9.89  -1.31  ...       2.04         2.65   5.79       7.52   \n",
       "2268833       8.08  -5.23  ...       0.20         4.78   4.28       6.06   \n",
       "\n",
       "         WS50M_MIN  WS50M_RANGE  score  year  month  day  \n",
       "2             2.54         4.72      2  2017      1    3  \n",
       "9             4.68         2.86      2  2017      1   10  \n",
       "16            2.76         3.15      2  2017      1   17  \n",
       "23            1.47         5.02      1  2017      1   24  \n",
       "30            2.88         4.52      1  2017      1   31  \n",
       "...            ...          ...    ...   ...    ...  ...  \n",
       "2268805       4.63         4.80      0  2018     11   27  \n",
       "2268812       3.79         2.67      0  2018     12    4  \n",
       "2268819       3.42         5.01      0  2018     12   11  \n",
       "2268826       3.47         4.05      0  2018     12   18  \n",
       "2268833       0.35         5.70      0  2018     12   25  \n",
       "\n",
       "[323232 rows x 22 columns]"
      ]
     },
     "execution_count": 31,
     "metadata": {},
     "output_type": "execute_result"
    }
   ],
   "source": [
    "df_validation = df_validation.drop('fips', 1)   # Como a coluna \"fips\" indica condados dos EUA e queremos traçar relações entre indicadores climaticos, retiraremos essa coluna.\n",
    "df_validation = df_validation.drop('date', 1)   # A coluna \"date\" já está sendo contemplada nas 3 novas colunas criadas \"year\",\"month\" e \"day\""
   ]
  },
  {
   "cell_type": "markdown",
   "metadata": {
    "id": "HIQoptvJB1HQ"
   },
   "source": [
    "### Verificando e retirando valores anomalos"
   ]
  },
  {
   "cell_type": "code",
   "execution_count": 32,
   "metadata": {
    "id": "if_V9O2SVCSD"
   },
   "outputs": [],
   "source": [
    "def anomalos(df):\n",
    "  \"\"\"\n",
    "    Essa função tem o objetivo e a capacidade de retirar outlayers de um data set, isso se dá a partir da comparação dos pontos com a media e uma relação com o desvio padrão.\n",
    "\n",
    "    Parâmetros:\n",
    "    - df (dataframe): Um dataframe no qual se queira identificar e retira valores anomalos.\n",
    "\n",
    "    Retorna:\n",
    "    - return: dataframe com valores anomalos retirados.\n",
    "  \"\"\"\n",
    "  for a in df.columns:\n",
    "      df = df[(df[a] <= df[a].mean() + 3*df[a].std()) &\n",
    "              (df[a] >= df[a].mean() - 3*df[a].std())]\n",
    "  return df"
   ]
  },
  {
   "cell_type": "code",
   "execution_count": 33,
   "metadata": {
    "id": "p2ahN5Ygcxn0"
   },
   "outputs": [],
   "source": [
    "df_validation = anomalos(df_validation)  #Aplicando a função que retira os valores anomalos. "
   ]
  },
  {
   "cell_type": "code",
   "execution_count": 34,
   "metadata": {
    "colab": {
     "base_uri": "https://localhost:8080/",
     "height": 349
    },
    "id": "6td5o2GnSEml",
    "outputId": "b30eb198-cb01-47e4-e350-a53b3e9383f3"
   },
   "outputs": [
    {
     "data": {
      "text/html": [
       "<div>\n",
       "<style scoped>\n",
       "    .dataframe tbody tr th:only-of-type {\n",
       "        vertical-align: middle;\n",
       "    }\n",
       "\n",
       "    .dataframe tbody tr th {\n",
       "        vertical-align: top;\n",
       "    }\n",
       "\n",
       "    .dataframe thead th {\n",
       "        text-align: right;\n",
       "    }\n",
       "</style>\n",
       "<table border=\"1\" class=\"dataframe\">\n",
       "  <thead>\n",
       "    <tr style=\"text-align: right;\">\n",
       "      <th></th>\n",
       "      <th>PRECTOT</th>\n",
       "      <th>PS</th>\n",
       "      <th>QV2M</th>\n",
       "      <th>T2M</th>\n",
       "      <th>T2MDEW</th>\n",
       "      <th>T2MWET</th>\n",
       "      <th>T2M_MAX</th>\n",
       "      <th>T2M_MIN</th>\n",
       "      <th>T2M_RANGE</th>\n",
       "      <th>TS</th>\n",
       "      <th>...</th>\n",
       "      <th>WS10M_MIN</th>\n",
       "      <th>WS10M_RANGE</th>\n",
       "      <th>WS50M</th>\n",
       "      <th>WS50M_MAX</th>\n",
       "      <th>WS50M_MIN</th>\n",
       "      <th>WS50M_RANGE</th>\n",
       "      <th>score</th>\n",
       "      <th>year</th>\n",
       "      <th>month</th>\n",
       "      <th>day</th>\n",
       "    </tr>\n",
       "  </thead>\n",
       "  <tbody>\n",
       "    <tr>\n",
       "      <th>count</th>\n",
       "      <td>286540.000000</td>\n",
       "      <td>286540.000000</td>\n",
       "      <td>286540.000000</td>\n",
       "      <td>286540.000000</td>\n",
       "      <td>286540.000000</td>\n",
       "      <td>286540.000000</td>\n",
       "      <td>286540.000000</td>\n",
       "      <td>286540.000000</td>\n",
       "      <td>286540.000000</td>\n",
       "      <td>286540.000000</td>\n",
       "      <td>...</td>\n",
       "      <td>286540.000000</td>\n",
       "      <td>286540.000000</td>\n",
       "      <td>286540.000000</td>\n",
       "      <td>286540.000000</td>\n",
       "      <td>286540.000000</td>\n",
       "      <td>286540.000000</td>\n",
       "      <td>286540.000000</td>\n",
       "      <td>286540.000000</td>\n",
       "      <td>286540.000000</td>\n",
       "      <td>286540.000000</td>\n",
       "    </tr>\n",
       "    <tr>\n",
       "      <th>mean</th>\n",
       "      <td>2.218883</td>\n",
       "      <td>97.329376</td>\n",
       "      <td>8.580194</td>\n",
       "      <td>13.860945</td>\n",
       "      <td>8.536013</td>\n",
       "      <td>8.544162</td>\n",
       "      <td>19.531924</td>\n",
       "      <td>8.673579</td>\n",
       "      <td>10.858362</td>\n",
       "      <td>13.928534</td>\n",
       "      <td>...</td>\n",
       "      <td>1.784658</td>\n",
       "      <td>2.986916</td>\n",
       "      <td>5.197298</td>\n",
       "      <td>7.343476</td>\n",
       "      <td>2.950241</td>\n",
       "      <td>4.393241</td>\n",
       "      <td>0.461681</td>\n",
       "      <td>2017.503678</td>\n",
       "      <td>6.553623</td>\n",
       "      <td>16.062389</td>\n",
       "    </tr>\n",
       "    <tr>\n",
       "      <th>std</th>\n",
       "      <td>4.204751</td>\n",
       "      <td>4.312552</td>\n",
       "      <td>4.922092</td>\n",
       "      <td>10.637828</td>\n",
       "      <td>10.234811</td>\n",
       "      <td>10.093393</td>\n",
       "      <td>11.161100</td>\n",
       "      <td>10.388365</td>\n",
       "      <td>3.751399</td>\n",
       "      <td>10.825962</td>\n",
       "      <td>...</td>\n",
       "      <td>1.134162</td>\n",
       "      <td>1.613224</td>\n",
       "      <td>2.026879</td>\n",
       "      <td>2.417383</td>\n",
       "      <td>1.897161</td>\n",
       "      <td>1.811895</td>\n",
       "      <td>0.801720</td>\n",
       "      <td>0.499987</td>\n",
       "      <td>3.405453</td>\n",
       "      <td>8.730150</td>\n",
       "    </tr>\n",
       "    <tr>\n",
       "      <th>min</th>\n",
       "      <td>0.000000</td>\n",
       "      <td>80.260000</td>\n",
       "      <td>0.490000</td>\n",
       "      <td>-18.930000</td>\n",
       "      <td>-23.020000</td>\n",
       "      <td>-21.350000</td>\n",
       "      <td>-14.740000</td>\n",
       "      <td>-23.200000</td>\n",
       "      <td>0.160000</td>\n",
       "      <td>-19.010000</td>\n",
       "      <td>...</td>\n",
       "      <td>0.000000</td>\n",
       "      <td>0.220000</td>\n",
       "      <td>0.660000</td>\n",
       "      <td>1.200000</td>\n",
       "      <td>0.010000</td>\n",
       "      <td>0.480000</td>\n",
       "      <td>0.000000</td>\n",
       "      <td>2017.000000</td>\n",
       "      <td>1.000000</td>\n",
       "      <td>1.000000</td>\n",
       "    </tr>\n",
       "    <tr>\n",
       "      <th>25%</th>\n",
       "      <td>0.000000</td>\n",
       "      <td>96.380000</td>\n",
       "      <td>4.180000</td>\n",
       "      <td>5.600000</td>\n",
       "      <td>0.650000</td>\n",
       "      <td>0.610000</td>\n",
       "      <td>11.510000</td>\n",
       "      <td>0.370000</td>\n",
       "      <td>8.190000</td>\n",
       "      <td>5.460000</td>\n",
       "      <td>...</td>\n",
       "      <td>0.920000</td>\n",
       "      <td>1.720000</td>\n",
       "      <td>3.650000</td>\n",
       "      <td>5.490000</td>\n",
       "      <td>1.400000</td>\n",
       "      <td>3.030000</td>\n",
       "      <td>0.000000</td>\n",
       "      <td>2017.000000</td>\n",
       "      <td>4.000000</td>\n",
       "      <td>9.000000</td>\n",
       "    </tr>\n",
       "    <tr>\n",
       "      <th>50%</th>\n",
       "      <td>0.180000</td>\n",
       "      <td>98.470000</td>\n",
       "      <td>7.940000</td>\n",
       "      <td>15.590000</td>\n",
       "      <td>9.930000</td>\n",
       "      <td>9.850000</td>\n",
       "      <td>21.730000</td>\n",
       "      <td>9.730000</td>\n",
       "      <td>10.810000</td>\n",
       "      <td>15.635000</td>\n",
       "      <td>...</td>\n",
       "      <td>1.600000</td>\n",
       "      <td>2.620000</td>\n",
       "      <td>4.930000</td>\n",
       "      <td>7.040000</td>\n",
       "      <td>2.700000</td>\n",
       "      <td>4.090000</td>\n",
       "      <td>0.000000</td>\n",
       "      <td>2018.000000</td>\n",
       "      <td>7.000000</td>\n",
       "      <td>16.000000</td>\n",
       "    </tr>\n",
       "    <tr>\n",
       "      <th>75%</th>\n",
       "      <td>2.230000</td>\n",
       "      <td>100.090000</td>\n",
       "      <td>12.650000</td>\n",
       "      <td>22.990000</td>\n",
       "      <td>17.350000</td>\n",
       "      <td>17.300000</td>\n",
       "      <td>28.490000</td>\n",
       "      <td>17.620000</td>\n",
       "      <td>13.420000</td>\n",
       "      <td>23.140000</td>\n",
       "      <td>...</td>\n",
       "      <td>2.460000</td>\n",
       "      <td>3.960000</td>\n",
       "      <td>6.520000</td>\n",
       "      <td>8.990000</td>\n",
       "      <td>4.210000</td>\n",
       "      <td>5.490000</td>\n",
       "      <td>1.000000</td>\n",
       "      <td>2018.000000</td>\n",
       "      <td>10.000000</td>\n",
       "      <td>24.000000</td>\n",
       "    </tr>\n",
       "    <tr>\n",
       "      <th>max</th>\n",
       "      <td>22.680000</td>\n",
       "      <td>104.010000</td>\n",
       "      <td>20.800000</td>\n",
       "      <td>40.110000</td>\n",
       "      <td>25.960000</td>\n",
       "      <td>25.960000</td>\n",
       "      <td>50.030000</td>\n",
       "      <td>31.200000</td>\n",
       "      <td>22.400000</td>\n",
       "      <td>42.210000</td>\n",
       "      <td>...</td>\n",
       "      <td>5.570000</td>\n",
       "      <td>8.510000</td>\n",
       "      <td>11.500000</td>\n",
       "      <td>14.860000</td>\n",
       "      <td>8.670000</td>\n",
       "      <td>10.100000</td>\n",
       "      <td>3.000000</td>\n",
       "      <td>2018.000000</td>\n",
       "      <td>12.000000</td>\n",
       "      <td>31.000000</td>\n",
       "    </tr>\n",
       "  </tbody>\n",
       "</table>\n",
       "<p>8 rows × 22 columns</p>\n",
       "</div>"
      ],
      "text/plain": [
       "             PRECTOT             PS           QV2M            T2M  \\\n",
       "count  286540.000000  286540.000000  286540.000000  286540.000000   \n",
       "mean        2.218883      97.329376       8.580194      13.860945   \n",
       "std         4.204751       4.312552       4.922092      10.637828   \n",
       "min         0.000000      80.260000       0.490000     -18.930000   \n",
       "25%         0.000000      96.380000       4.180000       5.600000   \n",
       "50%         0.180000      98.470000       7.940000      15.590000   \n",
       "75%         2.230000     100.090000      12.650000      22.990000   \n",
       "max        22.680000     104.010000      20.800000      40.110000   \n",
       "\n",
       "              T2MDEW         T2MWET        T2M_MAX        T2M_MIN  \\\n",
       "count  286540.000000  286540.000000  286540.000000  286540.000000   \n",
       "mean        8.536013       8.544162      19.531924       8.673579   \n",
       "std        10.234811      10.093393      11.161100      10.388365   \n",
       "min       -23.020000     -21.350000     -14.740000     -23.200000   \n",
       "25%         0.650000       0.610000      11.510000       0.370000   \n",
       "50%         9.930000       9.850000      21.730000       9.730000   \n",
       "75%        17.350000      17.300000      28.490000      17.620000   \n",
       "max        25.960000      25.960000      50.030000      31.200000   \n",
       "\n",
       "           T2M_RANGE             TS  ...      WS10M_MIN    WS10M_RANGE  \\\n",
       "count  286540.000000  286540.000000  ...  286540.000000  286540.000000   \n",
       "mean       10.858362      13.928534  ...       1.784658       2.986916   \n",
       "std         3.751399      10.825962  ...       1.134162       1.613224   \n",
       "min         0.160000     -19.010000  ...       0.000000       0.220000   \n",
       "25%         8.190000       5.460000  ...       0.920000       1.720000   \n",
       "50%        10.810000      15.635000  ...       1.600000       2.620000   \n",
       "75%        13.420000      23.140000  ...       2.460000       3.960000   \n",
       "max        22.400000      42.210000  ...       5.570000       8.510000   \n",
       "\n",
       "               WS50M      WS50M_MAX      WS50M_MIN    WS50M_RANGE  \\\n",
       "count  286540.000000  286540.000000  286540.000000  286540.000000   \n",
       "mean        5.197298       7.343476       2.950241       4.393241   \n",
       "std         2.026879       2.417383       1.897161       1.811895   \n",
       "min         0.660000       1.200000       0.010000       0.480000   \n",
       "25%         3.650000       5.490000       1.400000       3.030000   \n",
       "50%         4.930000       7.040000       2.700000       4.090000   \n",
       "75%         6.520000       8.990000       4.210000       5.490000   \n",
       "max        11.500000      14.860000       8.670000      10.100000   \n",
       "\n",
       "               score           year          month            day  \n",
       "count  286540.000000  286540.000000  286540.000000  286540.000000  \n",
       "mean        0.461681    2017.503678       6.553623      16.062389  \n",
       "std         0.801720       0.499987       3.405453       8.730150  \n",
       "min         0.000000    2017.000000       1.000000       1.000000  \n",
       "25%         0.000000    2017.000000       4.000000       9.000000  \n",
       "50%         0.000000    2018.000000       7.000000      16.000000  \n",
       "75%         1.000000    2018.000000      10.000000      24.000000  \n",
       "max         3.000000    2018.000000      12.000000      31.000000  \n",
       "\n",
       "[8 rows x 22 columns]"
      ]
     },
     "execution_count": 34,
     "metadata": {},
     "output_type": "execute_result"
    }
   ],
   "source": [
    "df_validation.describe()"
   ]
  },
  {
   "cell_type": "markdown",
   "metadata": {
    "id": "mUUtGp-2VofT",
    "tags": []
   },
   "source": [
    "### Seleção de atributos por Analise de multicolinearidade\n"
   ]
  },
  {
   "cell_type": "code",
   "execution_count": 35,
   "metadata": {
    "id": "qKj5jYElVpHg"
   },
   "outputs": [],
   "source": [
    "def selecao_vif(df_atributos, limiar_vif):\n",
    "    \"\"\"Realiza a seleção de atributos por VIF.\n",
    "\n",
    "    Args:\n",
    "      df_atributos: DataFrame contendo os atributos.\n",
    "      limiar_vf: valor do limiar do vif. Número positivo. Usualmente é 5 ou 10.\n",
    "\n",
    "    Returns:\n",
    "      DataFrame com os atributos selecionados.\n",
    "    \"\"\"\n",
    "\n",
    "    df = df_atributos.copy()\n",
    "\n",
    "    while True:\n",
    "        VIFs = []\n",
    "\n",
    "        for col in df.columns:\n",
    "            X = df.drop(col, axis=1).values\n",
    "            y = df[col].values\n",
    "\n",
    "            r_quadrado = LinearRegression().fit(X, y).score(X, y)\n",
    "\n",
    "            if r_quadrado != 1:\n",
    "                VIF = 1 / (1 - r_quadrado)\n",
    "            else:\n",
    "                VIF = float(\"inf\")\n",
    "\n",
    "            VIFs.append(VIF)\n",
    "\n",
    "        VIF_maximo = max(VIFs)\n",
    "\n",
    "        if VIF_maximo > limiar_vif:\n",
    "            indice = VIFs.index(VIF_maximo)\n",
    "            coluna_remocao = df.columns[indice]\n",
    "            df = df.drop(coluna_remocao, axis=1)\n",
    "        else:\n",
    "            break\n",
    "\n",
    "    return df"
   ]
  },
  {
   "cell_type": "code",
   "execution_count": 36,
   "metadata": {
    "id": "3QPq7TbjWK6M"
   },
   "outputs": [],
   "source": [
    "df_selection_vif = selecao_vif(df_validation, 5)  #Aplicando a seleção VIF, retirando os atributos que apresentam comportamente \"Semelhante\". (mesma variância)"
   ]
  },
  {
   "cell_type": "code",
   "execution_count": 37,
   "metadata": {
    "id": "5MgdXM4xXHVm"
   },
   "outputs": [],
   "source": [
    "df_selection_vif = df_selection_vif.dropna() #Retirando novamente valores nulos. Apenas uma boa pratica"
   ]
  },
  {
   "cell_type": "code",
   "execution_count": 38,
   "metadata": {},
   "outputs": [
    {
     "data": {
      "text/plain": [
       "Index(['PRECTOT', 'PS', 'T2M_RANGE', 'TS', 'WS10M_MIN', 'WS10M_RANGE',\n",
       "       'WS50M_RANGE', 'score', 'year', 'month', 'day'],\n",
       "      dtype='object')"
      ]
     },
     "execution_count": 38,
     "metadata": {},
     "output_type": "execute_result"
    }
   ],
   "source": [
    "df_selection_vif.columns"
   ]
  },
  {
   "cell_type": "markdown",
   "metadata": {
    "id": "XziaHwikdpP_",
    "tags": []
   },
   "source": [
    "### Realizando o PCA"
   ]
  },
  {
   "cell_type": "markdown",
   "metadata": {
    "id": "J0tqy_CbfHqe"
   },
   "source": [
    "#### PCA sem Seleção VIF"
   ]
  },
  {
   "cell_type": "code",
   "execution_count": 39,
   "metadata": {
    "colab": {
     "base_uri": "https://localhost:8080/",
     "height": 491
    },
    "id": "via-xbwKfOqD",
    "outputId": "f33dd883-e337-4536-ea26-176e84e5976f"
   },
   "outputs": [
    {
     "data": {
      "text/plain": [
       "[None]"
      ]
     },
     "execution_count": 39,
     "metadata": {},
     "output_type": "execute_result"
    },
    {
     "data": {
      "image/png": "[encoded data removed]",
      "text/plain": [
       "<Figure size 800x480 with 2 Axes>"
      ]
     },
     "metadata": {},
     "output_type": "display_data"
    }
   ],
   "source": [
    "X = df_validation.drop('score', axis=1)\n",
    "y = df_validation[\"score\"]\n",
    "\n",
    "pca = PCA()\n",
    "\n",
    "pca.fit(X)\n",
    "\n",
    "autovalores = pca.explained_variance_\n",
    "autovetores = pca.components_.T\n",
    "\n",
    "variancia_explicada = pca.explained_variance_ratio_\n",
    "\n",
    "\n",
    "id_componentes = np.arange(1, pca.n_components_ + 1)\n",
    "\n",
    "figura, eixos = plt.subplots(1, 2)\n",
    "\n",
    "# Plot variância explicada\n",
    "eixos[0].bar(id_componentes, variancia_explicada)\n",
    "eixos[0].set(xlabel=\"Componente\", title=\"Variância explicada\", ylim=(0.0, 1.0))\n",
    "\n",
    "# Plot variância acumulada\n",
    "cv = np.cumsum(pca.explained_variance_ratio_)\n",
    "eixos[1].plot(np.r_[0, id_componentes], np.r_[0, cv], marker=\"o\")\n",
    "eixos[1].set(\n",
    "    xlabel=\"Número de componentes\",\n",
    "    title=\"Variância acumulada\",\n",
    "    ylim=(0.0, 1.0),\n",
    ")\n",
    "eixos[1].axhline(0.9, linestyle=\"--\", color=\"red\")\n",
    "\n",
    "figura.set(figwidth=8)"
   ]
  },
  {
   "cell_type": "markdown",
   "metadata": {
    "id": "yXvotX4If44X"
   },
   "source": [
    "Apartir da analise de componentes principais acima, vemos que em nesse dataset, no qual não foi realizado um seleção VIF, foram indicados que 5 componentes seriam suficientes pra que seja analisado parte significativa da informação que esse dataset carrega. Porém em nossos testes, vimos que utilizar as 7 componentes principais proporcionava uma melhor acuracia."
   ]
  },
  {
   "cell_type": "code",
   "execution_count": 40,
   "metadata": {
    "id": "1qnHLWpBhaZV"
   },
   "outputs": [],
   "source": [
    "n_componentes_pca = 7  #Definindoo o numero de componentes principais. "
   ]
  },
  {
   "cell_type": "markdown",
   "metadata": {
    "id": "LrgxyyzWeAJp"
   },
   "source": [
    "#### PCA com Seleção VIF"
   ]
  },
  {
   "cell_type": "code",
   "execution_count": 41,
   "metadata": {
    "colab": {
     "base_uri": "https://localhost:8080/",
     "height": 491
    },
    "id": "-EC8ImhcZHsF",
    "outputId": "642f8eec-ed67-441c-da83-3419b29a9c08"
   },
   "outputs": [
    {
     "data": {
      "text/plain": [
       "[None]"
      ]
     },
     "execution_count": 41,
     "metadata": {},
     "output_type": "execute_result"
    },
    {
     "data": {
      "image/png": "[encoded data removed]",
      "text/plain": [
       "<Figure size 800x480 with 2 Axes>"
      ]
     },
     "metadata": {},
     "output_type": "display_data"
    }
   ],
   "source": [
    "X = df_selection_vif\n",
    "y = df_validation[\"score\"]\n",
    "\n",
    "pca_selection = PCA()\n",
    "\n",
    "pca_selection.fit(X)\n",
    "\n",
    "autovalores = pca_selection.explained_variance_\n",
    "autovetores = pca_selection.components_.T\n",
    "\n",
    "variancia_explicada = pca_selection.explained_variance_ratio_\n",
    "\n",
    "\n",
    "id_componentes = np.arange(1, pca_selection.n_components_ + 1)\n",
    "\n",
    "figura, eixos = plt.subplots(1, 2)\n",
    "\n",
    "# Plot variância explicada\n",
    "eixos[0].bar(id_componentes, variancia_explicada)\n",
    "eixos[0].set(xlabel=\"Componente\", title=\"Variância explicada\", ylim=(0.0, 1.0))\n",
    "\n",
    "# Plot variância acumulada\n",
    "cv = np.cumsum(pca_selection.explained_variance_ratio_)\n",
    "eixos[1].plot(np.r_[0, id_componentes], np.r_[0, cv], marker=\"o\")\n",
    "eixos[1].set(\n",
    "    xlabel=\"Número de componentes\",\n",
    "    title=\"Variância acumulada\",\n",
    "    ylim=(0.0, 1.0),\n",
    ")\n",
    "eixos[1].axhline(0.9, linestyle=\"--\", color=\"red\")\n",
    "\n",
    "figura.set(figwidth=8)"
   ]
  },
  {
   "cell_type": "markdown",
   "metadata": {
    "id": "8zpKfsWghnCq"
   },
   "source": [
    "Já no PCA realizado acima podemos ver que, nesse dataset que passou previamente por uma seleção VIF, somente 5 componentes foram indicados como suficientes.  "
   ]
  },
  {
   "cell_type": "code",
   "execution_count": 42,
   "metadata": {
    "id": "dSYoNmLnduQz"
   },
   "outputs": [],
   "source": [
    "n_componentes_selecao_pca = 5"
   ]
  },
  {
   "cell_type": "markdown",
   "metadata": {
    "id": "Fu6lSJbrLyJ6"
   },
   "source": [
    "## **Definindo treino e teste.**"
   ]
  },
  {
   "cell_type": "code",
   "execution_count": 43,
   "metadata": {
    "colab": {
     "base_uri": "https://localhost:8080/",
     "height": 423
    },
    "id": "PBgyJzc3l0TA",
    "outputId": "c0221d92-6e47-4cc6-d9d5-070b57ed0980"
   },
   "outputs": [
    {
     "data": {
      "text/html": [
       "<div>\n",
       "<style scoped>\n",
       "    .dataframe tbody tr th:only-of-type {\n",
       "        vertical-align: middle;\n",
       "    }\n",
       "\n",
       "    .dataframe tbody tr th {\n",
       "        vertical-align: top;\n",
       "    }\n",
       "\n",
       "    .dataframe thead th {\n",
       "        text-align: right;\n",
       "    }\n",
       "</style>\n",
       "<table border=\"1\" class=\"dataframe\">\n",
       "  <thead>\n",
       "    <tr style=\"text-align: right;\">\n",
       "      <th></th>\n",
       "      <th>PRECTOT</th>\n",
       "      <th>PS</th>\n",
       "      <th>T2M_RANGE</th>\n",
       "      <th>TS</th>\n",
       "      <th>WS10M_MIN</th>\n",
       "      <th>WS10M_RANGE</th>\n",
       "      <th>WS50M_RANGE</th>\n",
       "      <th>score</th>\n",
       "      <th>year</th>\n",
       "      <th>month</th>\n",
       "      <th>day</th>\n",
       "    </tr>\n",
       "  </thead>\n",
       "  <tbody>\n",
       "    <tr>\n",
       "      <th>2</th>\n",
       "      <td>18.82</td>\n",
       "      <td>99.69</td>\n",
       "      <td>9.20</td>\n",
       "      <td>14.06</td>\n",
       "      <td>1.64</td>\n",
       "      <td>2.09</td>\n",
       "      <td>4.72</td>\n",
       "      <td>2</td>\n",
       "      <td>2017</td>\n",
       "      <td>1</td>\n",
       "      <td>3</td>\n",
       "    </tr>\n",
       "    <tr>\n",
       "      <th>9</th>\n",
       "      <td>0.02</td>\n",
       "      <td>101.13</td>\n",
       "      <td>14.79</td>\n",
       "      <td>5.81</td>\n",
       "      <td>2.52</td>\n",
       "      <td>1.72</td>\n",
       "      <td>2.86</td>\n",
       "      <td>2</td>\n",
       "      <td>2017</td>\n",
       "      <td>1</td>\n",
       "      <td>10</td>\n",
       "    </tr>\n",
       "    <tr>\n",
       "      <th>16</th>\n",
       "      <td>0.14</td>\n",
       "      <td>100.60</td>\n",
       "      <td>9.88</td>\n",
       "      <td>17.10</td>\n",
       "      <td>1.71</td>\n",
       "      <td>1.90</td>\n",
       "      <td>3.15</td>\n",
       "      <td>2</td>\n",
       "      <td>2017</td>\n",
       "      <td>1</td>\n",
       "      <td>17</td>\n",
       "    </tr>\n",
       "    <tr>\n",
       "      <th>23</th>\n",
       "      <td>0.00</td>\n",
       "      <td>99.72</td>\n",
       "      <td>12.06</td>\n",
       "      <td>8.95</td>\n",
       "      <td>1.03</td>\n",
       "      <td>1.31</td>\n",
       "      <td>5.02</td>\n",
       "      <td>1</td>\n",
       "      <td>2017</td>\n",
       "      <td>1</td>\n",
       "      <td>24</td>\n",
       "    </tr>\n",
       "    <tr>\n",
       "      <th>30</th>\n",
       "      <td>0.00</td>\n",
       "      <td>100.37</td>\n",
       "      <td>15.24</td>\n",
       "      <td>11.32</td>\n",
       "      <td>1.76</td>\n",
       "      <td>1.24</td>\n",
       "      <td>4.52</td>\n",
       "      <td>1</td>\n",
       "      <td>2017</td>\n",
       "      <td>1</td>\n",
       "      <td>31</td>\n",
       "    </tr>\n",
       "    <tr>\n",
       "      <th>...</th>\n",
       "      <td>...</td>\n",
       "      <td>...</td>\n",
       "      <td>...</td>\n",
       "      <td>...</td>\n",
       "      <td>...</td>\n",
       "      <td>...</td>\n",
       "      <td>...</td>\n",
       "      <td>...</td>\n",
       "      <td>...</td>\n",
       "      <td>...</td>\n",
       "      <td>...</td>\n",
       "    </tr>\n",
       "    <tr>\n",
       "      <th>2268805</th>\n",
       "      <td>0.21</td>\n",
       "      <td>82.62</td>\n",
       "      <td>10.83</td>\n",
       "      <td>-1.94</td>\n",
       "      <td>2.93</td>\n",
       "      <td>2.51</td>\n",
       "      <td>4.80</td>\n",
       "      <td>0</td>\n",
       "      <td>2018</td>\n",
       "      <td>11</td>\n",
       "      <td>27</td>\n",
       "    </tr>\n",
       "    <tr>\n",
       "      <th>2268812</th>\n",
       "      <td>0.01</td>\n",
       "      <td>83.32</td>\n",
       "      <td>10.45</td>\n",
       "      <td>-8.96</td>\n",
       "      <td>2.20</td>\n",
       "      <td>3.03</td>\n",
       "      <td>2.67</td>\n",
       "      <td>0</td>\n",
       "      <td>2018</td>\n",
       "      <td>12</td>\n",
       "      <td>4</td>\n",
       "    </tr>\n",
       "    <tr>\n",
       "      <th>2268819</th>\n",
       "      <td>0.06</td>\n",
       "      <td>82.94</td>\n",
       "      <td>9.13</td>\n",
       "      <td>-4.08</td>\n",
       "      <td>2.07</td>\n",
       "      <td>3.01</td>\n",
       "      <td>5.01</td>\n",
       "      <td>0</td>\n",
       "      <td>2018</td>\n",
       "      <td>12</td>\n",
       "      <td>11</td>\n",
       "    </tr>\n",
       "    <tr>\n",
       "      <th>2268826</th>\n",
       "      <td>0.06</td>\n",
       "      <td>82.77</td>\n",
       "      <td>9.89</td>\n",
       "      <td>-1.31</td>\n",
       "      <td>2.04</td>\n",
       "      <td>2.65</td>\n",
       "      <td>4.05</td>\n",
       "      <td>0</td>\n",
       "      <td>2018</td>\n",
       "      <td>12</td>\n",
       "      <td>18</td>\n",
       "    </tr>\n",
       "    <tr>\n",
       "      <th>2268833</th>\n",
       "      <td>1.64</td>\n",
       "      <td>82.71</td>\n",
       "      <td>8.08</td>\n",
       "      <td>-5.23</td>\n",
       "      <td>0.20</td>\n",
       "      <td>4.78</td>\n",
       "      <td>5.70</td>\n",
       "      <td>0</td>\n",
       "      <td>2018</td>\n",
       "      <td>12</td>\n",
       "      <td>25</td>\n",
       "    </tr>\n",
       "  </tbody>\n",
       "</table>\n",
       "<p>286540 rows × 11 columns</p>\n",
       "</div>"
      ],
      "text/plain": [
       "         PRECTOT      PS  T2M_RANGE     TS  WS10M_MIN  WS10M_RANGE  \\\n",
       "2          18.82   99.69       9.20  14.06       1.64         2.09   \n",
       "9           0.02  101.13      14.79   5.81       2.52         1.72   \n",
       "16          0.14  100.60       9.88  17.10       1.71         1.90   \n",
       "23          0.00   99.72      12.06   8.95       1.03         1.31   \n",
       "30          0.00  100.37      15.24  11.32       1.76         1.24   \n",
       "...          ...     ...        ...    ...        ...          ...   \n",
       "2268805     0.21   82.62      10.83  -1.94       2.93         2.51   \n",
       "2268812     0.01   83.32      10.45  -8.96       2.20         3.03   \n",
       "2268819     0.06   82.94       9.13  -4.08       2.07         3.01   \n",
       "2268826     0.06   82.77       9.89  -1.31       2.04         2.65   \n",
       "2268833     1.64   82.71       8.08  -5.23       0.20         4.78   \n",
       "\n",
       "         WS50M_RANGE  score  year  month  day  \n",
       "2               4.72      2  2017      1    3  \n",
       "9               2.86      2  2017      1   10  \n",
       "16              3.15      2  2017      1   17  \n",
       "23              5.02      1  2017      1   24  \n",
       "30              4.52      1  2017      1   31  \n",
       "...              ...    ...   ...    ...  ...  \n",
       "2268805         4.80      0  2018     11   27  \n",
       "2268812         2.67      0  2018     12    4  \n",
       "2268819         5.01      0  2018     12   11  \n",
       "2268826         4.05      0  2018     12   18  \n",
       "2268833         5.70      0  2018     12   25  \n",
       "\n",
       "[286540 rows x 11 columns]"
      ]
     },
     "execution_count": 43,
     "metadata": {},
     "output_type": "execute_result"
    }
   ],
   "source": [
    "df_selection_vif"
   ]
  },
  {
   "cell_type": "markdown",
   "metadata": {
    "id": "P5SIW3jFiu6D"
   },
   "source": [
    "### Treino e teste com seleção VIF\n"
   ]
  },
  {
   "cell_type": "code",
   "execution_count": 44,
   "metadata": {
    "colab": {
     "base_uri": "https://localhost:8080/"
    },
    "id": "OkqLpnXHJEuF",
    "outputId": "5db2345c-2692-4ec0-c2cc-9312fb09b8ea"
   },
   "outputs": [
    {
     "data": {
      "text/plain": [
       "Index(['PRECTOT', 'PS', 'T2M_RANGE', 'TS', 'WS10M_MIN', 'WS10M_RANGE',\n",
       "       'WS50M_RANGE', 'score', 'year', 'month', 'day'],\n",
       "      dtype='object')"
      ]
     },
     "execution_count": 44,
     "metadata": {},
     "output_type": "execute_result"
    }
   ],
   "source": [
    "df_selection_vif.columns"
   ]
  },
  {
   "cell_type": "code",
   "execution_count": 45,
   "metadata": {
    "id": "bKK6t4nitMmR"
   },
   "outputs": [],
   "source": [
    "FEATURES = ['PRECTOT', 'PS', 'T2M_RANGE', 'TS', 'WS10M_MIN', 'WS10M_RANGE',\n",
    "            'WS50M_RANGE', 'year', 'month', 'day']\n",
    "TARGET = [\"score\"]\n",
    "\n",
    "df_selection_vif = df_selection_vif.reindex(FEATURES + TARGET, axis=1)\n",
    "\n",
    "\n",
    "TAMANHO_TESTE = 0.1\n",
    "SEMENTE_ALEATORIA = 61455\n",
    "\n",
    "indices = df_selection_vif.index\n",
    "indices_treino, indices_teste = train_test_split(\n",
    "    indices, test_size=TAMANHO_TESTE, random_state=SEMENTE_ALEATORIA\n",
    ")\n",
    "\n",
    "df_treino = df_selection_vif.loc[indices_treino]\n",
    "df_teste = df_selection_vif.loc[indices_teste]\n",
    "\n",
    "X_treino_vif = df_treino.reindex(FEATURES, axis=1).values\n",
    "y_treino_vif = df_treino.reindex(TARGET, axis=1).values.ravel()\n",
    "\n",
    "X_teste_vif = df_teste.reindex(FEATURES, axis=1).values\n",
    "y_teste_vif = df_teste.reindex(TARGET, axis=1).values.ravel()"
   ]
  },
  {
   "cell_type": "markdown",
   "metadata": {
    "id": "Qu23pM_QivsV"
   },
   "source": [
    "### Treino e Teste sem seleção VIF"
   ]
  },
  {
   "cell_type": "code",
   "execution_count": 46,
   "metadata": {
    "colab": {
     "base_uri": "https://localhost:8080/"
    },
    "id": "XEzDHthVJMc2",
    "outputId": "23efa087-e074-474b-9b52-005b95949141"
   },
   "outputs": [
    {
     "data": {
      "text/plain": [
       "Index(['PRECTOT', 'PS', 'QV2M', 'T2M', 'T2MDEW', 'T2MWET', 'T2M_MAX',\n",
       "       'T2M_MIN', 'T2M_RANGE', 'TS', 'WS10M', 'WS10M_MAX', 'WS10M_MIN',\n",
       "       'WS10M_RANGE', 'WS50M', 'WS50M_MAX', 'WS50M_MIN', 'WS50M_RANGE',\n",
       "       'score', 'year', 'month', 'day'],\n",
       "      dtype='object')"
      ]
     },
     "execution_count": 46,
     "metadata": {},
     "output_type": "execute_result"
    }
   ],
   "source": [
    "df_validation.columns"
   ]
  },
  {
   "cell_type": "code",
   "execution_count": 47,
   "metadata": {
    "id": "E9HGnMbMgfFK"
   },
   "outputs": [],
   "source": [
    "FEATURES = ['PRECTOT', 'PS', 'QV2M', 'T2M', 'T2MDEW', 'T2MWET', 'T2M_MAX',\n",
    "       'T2M_MIN', 'T2M_RANGE', 'TS', 'WS10M', 'WS10M_MAX', 'WS10M_MIN',\n",
    "       'WS10M_RANGE', 'WS50M', 'WS50M_MAX', 'WS50M_MIN', 'WS50M_RANGE',\n",
    "       'year', 'month', 'day']\n",
    "TARGET = [\"score\"]\n",
    "\n",
    "df_validation = df_validation.reindex(FEATURES + TARGET, axis=1)\n",
    "\n",
    "\n",
    "\n",
    "TAMANHO_TESTE = 0.1\n",
    "SEMENTE_ALEATORIA = 61455\n",
    "\n",
    "indices = df_validation.index\n",
    "indices_treino, indices_teste = train_test_split(\n",
    "    indices, test_size=TAMANHO_TESTE, random_state=SEMENTE_ALEATORIA\n",
    ")\n",
    "\n",
    "df_treino = df_validation.loc[indices_treino]\n",
    "df_teste = df_validation.loc[indices_teste]\n",
    "\n",
    "X_treino = df_treino.reindex(FEATURES, axis=1).values\n",
    "y_treino = df_treino.reindex(TARGET, axis=1).values.ravel()\n",
    "\n",
    "X_teste = df_teste.reindex(FEATURES, axis=1).values\n",
    "y_teste = df_teste.reindex(TARGET, axis=1).values.ravel()"
   ]
  },
  {
   "cell_type": "markdown",
   "metadata": {
    "id": "X93tTC_pr4JR"
   },
   "source": [
    "## **Modelos de Predição**\n"
   ]
  },
  {
   "cell_type": "markdown",
   "metadata": {
    "id": "0bymfkZQ8EeX",
    "tags": []
   },
   "source": [
    "### Modelo KNN"
   ]
  },
  {
   "cell_type": "markdown",
   "metadata": {
    "id": "exLA0E4Y8Eeg",
    "tags": []
   },
   "source": [
    "#### KNN só PCA"
   ]
  },
  {
   "cell_type": "markdown",
   "metadata": {
    "id": "eycICNVFfKW2"
   },
   "source": [
    "###### Redimensionando por PCA:"
   ]
  },
  {
   "cell_type": "code",
   "execution_count": 124,
   "metadata": {
    "colab": {
     "base_uri": "https://localhost:8080/"
    },
    "id": "0aly_FJq723C",
    "outputId": "97a2af64-5b87-4571-c714-eece7f42b1bf"
   },
   "outputs": [
    {
     "name": "stderr",
     "output_type": "stream",
     "text": [
      "c:\\venv\\ilumpy\\lib\\site-packages\\sklearn\\base.py:450: UserWarning: X does not have valid feature names, but PCA was fitted with feature names\n",
      "  warnings.warn(\n",
      "c:\\venv\\ilumpy\\lib\\site-packages\\sklearn\\base.py:450: UserWarning: X does not have valid feature names, but PCA was fitted with feature names\n",
      "  warnings.warn(\n"
     ]
    }
   ],
   "source": [
    "X = df_validation.drop('score', axis=1)\n",
    "n_componentes = 7\n",
    "\n",
    "pca = PCA(n_componentes)\n",
    "\n",
    "pca.fit(X)      #Aplicando o PCA no dataset sem o VIF.\n",
    "\n",
    "X_treino_pca = pca.transform(X_treino)\n",
    "X_teste_pca = pca.transform(X_teste)"
   ]
  },
  {
   "cell_type": "markdown",
   "metadata": {
    "id": "7mLVFUccfP6z"
   },
   "source": [
    "##### Validação Cruzada"
   ]
  },
  {
   "cell_type": "code",
   "execution_count": 125,
   "metadata": {
    "colab": {
     "base_uri": "https://localhost:8080/"
    },
    "id": "mcYOD45V723D",
    "outputId": "227b9007-db6a-4dec-aa88-9446ada96139"
   },
   "outputs": [
    {
     "name": "stdout",
     "output_type": "stream",
     "text": [
      "{'n_neighbors': 1}\n"
     ]
    }
   ],
   "source": [
    "NUM_FOLDS = 7\n",
    "\n",
    "espaco_de_busca = {\n",
    "    'n_neighbors': [1, 3, 5,7,9,11],\n",
    "}\n",
    "\n",
    "modelo_KNN = KNeighborsClassifier()\n",
    "\n",
    "buscador = GridSearchCV(\n",
    "    modelo_KNN,\n",
    "    espaco_de_busca,\n",
    "    cv=NUM_FOLDS,\n",
    "    scoring=\"accuracy\",\n",
    ")\n",
    "\n",
    "buscador.fit(X_treino_pca, y_treino)          #Encontrando os hiperparâmetros para o KNN de acordo com o nosso dataset.\n",
    "\n",
    "print(buscador.best_params_)\n",
    "\n",
    "n_neighbors = buscador.best_params_[\"n_neighbors\"]\n"
   ]
  },
  {
   "cell_type": "markdown",
   "metadata": {
    "id": "w1AACaJKfTfC"
   },
   "source": [
    "##### Modelo só PCA:"
   ]
  },
  {
   "cell_type": "code",
   "execution_count": 132,
   "metadata": {
    "colab": {
     "base_uri": "https://localhost:8080/"
    },
    "id": "oBlgw1Qvlt8U",
    "outputId": "20510deb-db3d-42f2-fa1b-5601dfaed86c"
   },
   "outputs": [
    {
     "name": "stdout",
     "output_type": "stream",
     "text": [
      "Score do modelo: 0.8236197389544218\n"
     ]
    }
   ],
   "source": [
    "n_neighbors = 1\n",
    "\n",
    "pipeline = Pipeline([\n",
    "    ('knn', KNeighborsClassifier(n_neighbors=n_neighbors))\n",
    "])\n",
    "\n",
    "pipeline.fit(X_treino_pca, y_treino)\n",
    "\n",
    "y_predito = pipeline.predict(X_teste_pca)\n",
    "\n",
    "score = pipeline.score(X_teste_pca, y_teste)\n",
    "\n",
    "print(\"Score do modelo:\", score)\n"
   ]
  },
  {
   "cell_type": "markdown",
   "metadata": {
    "id": "Jh7Yz1Lu8Eeh",
    "jp-MarkdownHeadingCollapsed": true,
    "tags": []
   },
   "source": [
    "#### KNN só Seleção VIF"
   ]
  },
  {
   "cell_type": "markdown",
   "metadata": {
    "id": "PRBRnMRGeqt0"
   },
   "source": [
    "##### Modelo só Seleção VIF"
   ]
  },
  {
   "cell_type": "code",
   "execution_count": 127,
   "metadata": {
    "colab": {
     "base_uri": "https://localhost:8080/"
    },
    "id": "uAm63_rokyPc",
    "outputId": "9348e566-f7aa-4209-d5ef-6538e1594849"
   },
   "outputs": [
    {
     "name": "stdout",
     "output_type": "stream",
     "text": [
      "\n",
      "Score do modelo: 0.8283311230543728\n"
     ]
    }
   ],
   "source": [
    "pipeline = Pipeline([\n",
    "    ('knn', KNeighborsClassifier(n_neighbors=n_neighbors))\n",
    "])\n",
    "\n",
    "pipeline.fit(X_treino_vif, y_treino)\n",
    "\n",
    "y_predito = pipeline.predict(X_teste_vif)\n",
    "\n",
    "score = pipeline.score(X_teste_vif, y_teste)\n",
    "\n",
    "print()\n",
    "print(\"Score do modelo:\", score)"
   ]
  },
  {
   "cell_type": "markdown",
   "metadata": {
    "id": "Opsy2LF08Eeh",
    "jp-MarkdownHeadingCollapsed": true,
    "tags": []
   },
   "source": [
    "#### KNN Seleção VIF e PCA"
   ]
  },
  {
   "cell_type": "markdown",
   "metadata": {
    "id": "HjHoQeWofjwM"
   },
   "source": [
    "##### Redimendionando por PCA:"
   ]
  },
  {
   "cell_type": "code",
   "execution_count": 133,
   "metadata": {
    "colab": {
     "base_uri": "https://localhost:8080/"
    },
    "id": "blcFFsU28Eeh",
    "outputId": "41486ba2-ea77-4673-f888-d5183b6ed979"
   },
   "outputs": [
    {
     "name": "stderr",
     "output_type": "stream",
     "text": [
      "C:\\Users\\daniel23020\\AppData\\Local\\Temp\\ipykernel_14620\\3251426713.py:1: FutureWarning: In a future version of pandas all arguments of DataFrame.drop except for the argument 'labels' will be keyword-only.\n",
      "  X = df_selection_vif.drop('score', 1)\n",
      "c:\\venv\\ilumpy\\lib\\site-packages\\sklearn\\base.py:450: UserWarning: X does not have valid feature names, but PCA was fitted with feature names\n",
      "  warnings.warn(\n",
      "c:\\venv\\ilumpy\\lib\\site-packages\\sklearn\\base.py:450: UserWarning: X does not have valid feature names, but PCA was fitted with feature names\n",
      "  warnings.warn(\n"
     ]
    }
   ],
   "source": [
    "X = df_selection_vif.drop('score', 1)\n",
    "y = df_validation[\"score\"]\n",
    "\n",
    "n_componentes_selecao_pca = 5\n",
    "\n",
    "pca = PCA(n_componentes_selecao_pca)\n",
    "\n",
    "pca.fit(X)\n",
    "\n",
    "X_treino_pca_vif = pca.transform(X_treino_vif)\n",
    "X_teste_pca_vif = pca.transform(X_teste_vif)"
   ]
  },
  {
   "cell_type": "markdown",
   "metadata": {
    "id": "rTgSdd1ufw11"
   },
   "source": [
    "##### Modelo com PCA e Seleção VIF"
   ]
  },
  {
   "cell_type": "code",
   "execution_count": 134,
   "metadata": {
    "colab": {
     "base_uri": "https://localhost:8080/"
    },
    "id": "14SlCz_rmWXm",
    "outputId": "ba0ad093-972e-4512-bad9-cd2c94822d45"
   },
   "outputs": [
    {
     "name": "stdout",
     "output_type": "stream",
     "text": [
      "\n",
      "Score do modelo: 0.8121728205486145\n",
      "\n"
     ]
    }
   ],
   "source": [
    "pipeline = Pipeline([\n",
    "    ('knn', KNeighborsClassifier(n_neighbors=n_neighbors))\n",
    "])\n",
    "\n",
    "pipeline.fit(X_treino_pca_vif, y_treino)\n",
    "\n",
    "y_predito = pipeline.predict(X_teste_pca_vif,)\n",
    "\n",
    "score = pipeline.score(X_teste_pca_vif, y_teste)\n",
    "\n",
    "print()\n",
    "print(\"Score do modelo:\", score)\n",
    "print()"
   ]
  },
  {
   "cell_type": "markdown",
   "metadata": {
    "id": "HeVnfSe-whDu",
    "tags": []
   },
   "source": [
    "### Modelo Arvore Decisão"
   ]
  },
  {
   "cell_type": "markdown",
   "metadata": {
    "id": "KekvTgQy6dE4",
    "tags": []
   },
   "source": [
    "#### Arvore com PCA:"
   ]
  },
  {
   "cell_type": "markdown",
   "metadata": {
    "id": "NtT20sTU6dE4",
    "tags": []
   },
   "source": [
    "##### Redimensionando por PCA:"
   ]
  },
  {
   "cell_type": "code",
   "execution_count": 56,
   "metadata": {
    "colab": {
     "base_uri": "https://localhost:8080/"
    },
    "id": "82AshTr76dE4",
    "outputId": "580a70d8-0c5f-4e42-8c9c-876b9c693805"
   },
   "outputs": [
    {
     "name": "stderr",
     "output_type": "stream",
     "text": [
      "c:\\venv\\ilumpy\\lib\\site-packages\\sklearn\\base.py:450: UserWarning: X does not have valid feature names, but PCA was fitted with feature names\n",
      "  warnings.warn(\n",
      "c:\\venv\\ilumpy\\lib\\site-packages\\sklearn\\base.py:450: UserWarning: X does not have valid feature names, but PCA was fitted with feature names\n",
      "  warnings.warn(\n"
     ]
    }
   ],
   "source": [
    "X = df_validation.drop('score', axis=1)\n",
    "y = df_validation['score']\n",
    "\n",
    "pca = PCA(n_componentes_pca)\n",
    "\n",
    "pca.fit(X)\n",
    "\n",
    "X_treino_pca = pca.transform(X_treino)\n",
    "X_teste_pca = pca.transform(X_teste)"
   ]
  },
  {
   "cell_type": "markdown",
   "metadata": {
    "id": "ddqmvlrv6dE5",
    "tags": []
   },
   "source": [
    "##### Validação Cruzada:"
   ]
  },
  {
   "cell_type": "code",
   "execution_count": 57,
   "metadata": {
    "colab": {
     "base_uri": "https://localhost:8080/"
    },
    "id": "jcp1vMfY6dE5",
    "outputId": "6bf75076-f2eb-47b7-a46b-86134e955941"
   },
   "outputs": [
    {
     "name": "stderr",
     "output_type": "stream",
     "text": [
      "c:\\venv\\ilumpy\\lib\\site-packages\\sklearn\\model_selection\\_validation.py:378: FitFailedWarning: \n",
      "120 fits failed out of a total of 480.\n",
      "The score on these train-test partitions for these parameters will be set to nan.\n",
      "If these failures are not expected, you can try to debug them by setting error_score='raise'.\n",
      "\n",
      "Below are more details about the failures:\n",
      "--------------------------------------------------------------------------------\n",
      "120 fits failed with the following error:\n",
      "Traceback (most recent call last):\n",
      "  File \"c:\\venv\\ilumpy\\lib\\site-packages\\sklearn\\model_selection\\_validation.py\", line 686, in _fit_and_score\n",
      "    estimator.fit(X_train, y_train, **fit_params)\n",
      "  File \"c:\\venv\\ilumpy\\lib\\site-packages\\sklearn\\tree\\_classes.py\", line 969, in fit\n",
      "    super().fit(\n",
      "  File \"c:\\venv\\ilumpy\\lib\\site-packages\\sklearn\\tree\\_classes.py\", line 265, in fit\n",
      "    check_scalar(\n",
      "  File \"c:\\venv\\ilumpy\\lib\\site-packages\\sklearn\\utils\\validation.py\", line 1480, in check_scalar\n",
      "    raise ValueError(\n",
      "ValueError: min_samples_split == 1, must be >= 2.\n",
      "\n",
      "  warnings.warn(some_fits_failed_message, FitFailedWarning)\n",
      "c:\\venv\\ilumpy\\lib\\site-packages\\sklearn\\model_selection\\_search.py:953: UserWarning: One or more of the test scores are non-finite: [       nan 0.77646324 0.77648651 0.77440808        nan 0.77415602\n",
      " 0.77426072 0.77410174        nan 0.76559022 0.76588492 0.76573369\n",
      "        nan 0.76380649 0.76372505 0.76377934        nan 0.69907634\n",
      " 0.69907634 0.69907634        nan 0.69907634 0.69907634 0.69907634\n",
      "        nan 0.69907634 0.69907634 0.69907634        nan 0.69907634\n",
      " 0.69907634 0.69907634        nan 0.69910736 0.69910736 0.69910736\n",
      "        nan 0.69910736 0.69910736 0.69910736        nan 0.69910736\n",
      " 0.69910736 0.69910736        nan 0.69910736 0.69910736 0.69910736\n",
      "        nan 0.69966187 0.69966187 0.69966187        nan 0.69966187\n",
      " 0.69966187 0.69966187        nan 0.69966187 0.69966187 0.69966187\n",
      "        nan 0.69966187 0.69966187 0.69966187        nan 0.70419876\n",
      " 0.70419488 0.70420651        nan 0.70418325 0.70418325 0.70417549\n",
      "        nan 0.70419488 0.70419488 0.704191          nan 0.70419876\n",
      " 0.70419876 0.70419488        nan 0.71523464 0.7151881  0.71523464\n",
      "        nan 0.71519198 0.71519586 0.71515708        nan 0.71509892\n",
      " 0.71514545 0.71510667        nan 0.71511055 0.71509504 0.71507953]\n",
      "  warnings.warn(\n"
     ]
    }
   ],
   "source": [
    "NUM_FOLDS = 5\n",
    "\n",
    "espaco_de_busca = {\n",
    "    \"max_depth\": [None, 2, 3, 5, 7, 10],\n",
    "    \"min_samples_split\": [1, 2, 3, 4],\n",
    "    \"min_samples_leaf\": [1, 2, 3, 4],\n",
    "}\n",
    "\n",
    "\n",
    "modelo_DTC = DecisionTreeClassifier()\n",
    "\n",
    "buscador = GridSearchCV(\n",
    "    modelo_DTC,\n",
    "    espaco_de_busca,\n",
    "    cv=NUM_FOLDS,\n",
    "    scoring=\"accuracy\",\n",
    "    refit=True,  # reajusta o melhor modelo com todos os dados de treino\n",
    "    n_jobs=4,\n",
    ")\n",
    "\n",
    "buscador.fit(X_treino_pca, y_treino)\n",
    "\n",
    "vertice_folha = buscador.best_params_[\"min_samples_leaf\"]\n",
    "vertice_condicional = buscador.best_params_[\"min_samples_split\"]\n",
    "n_profundidade = buscador.best_params_[\"max_depth\"]"
   ]
  },
  {
   "cell_type": "markdown",
   "metadata": {
    "id": "-o80X7Pz6dE5",
    "tags": []
   },
   "source": [
    "##### Modelo de Predição só com PCA"
   ]
  },
  {
   "cell_type": "code",
   "execution_count": 136,
   "metadata": {
    "id": "O2YbvEC76dE5"
   },
   "outputs": [
    {
     "name": "stdout",
     "output_type": "stream",
     "text": [
      "\n",
      "Score do modelo: 0.7937111747051022\n"
     ]
    }
   ],
   "source": [
    "modelo_DTC = DecisionTreeClassifier(\n",
    "        min_samples_split=vertice_condicional,\n",
    "        min_samples_leaf=vertice_folha,\n",
    "        max_depth=n_profundidade,\n",
    "        criterion= \"gini\",\n",
    "        splitter= \"best\",\n",
    "        random_state=SEMENTE_ALEATORIA,\n",
    "    )\n",
    "\n",
    "modelo_DTC.fit(X_treino_pca,y_treino)\n",
    "\n",
    "\n",
    "score = modelo_DTC.score(X_teste_pca, y_teste)\n",
    "\n",
    "print()\n",
    "print(\"Score do modelo:\", score)"
   ]
  },
  {
   "cell_type": "markdown",
   "metadata": {
    "id": "vOte-Evy6dE5",
    "jp-MarkdownHeadingCollapsed": true,
    "tags": []
   },
   "source": [
    "#### Arvore com Seleção VIF"
   ]
  },
  {
   "cell_type": "markdown",
   "metadata": {
    "id": "e48zuFGL6dE5",
    "tags": []
   },
   "source": [
    "##### Validação Cruzada"
   ]
  },
  {
   "cell_type": "code",
   "execution_count": 138,
   "metadata": {
    "id": "ZU7XGYu16dE5"
   },
   "outputs": [
    {
     "name": "stderr",
     "output_type": "stream",
     "text": [
      "c:\\venv\\ilumpy\\lib\\site-packages\\sklearn\\model_selection\\_validation.py:378: FitFailedWarning: \n",
      "120 fits failed out of a total of 480.\n",
      "The score on these train-test partitions for these parameters will be set to nan.\n",
      "If these failures are not expected, you can try to debug them by setting error_score='raise'.\n",
      "\n",
      "Below are more details about the failures:\n",
      "--------------------------------------------------------------------------------\n",
      "120 fits failed with the following error:\n",
      "Traceback (most recent call last):\n",
      "  File \"c:\\venv\\ilumpy\\lib\\site-packages\\sklearn\\model_selection\\_validation.py\", line 686, in _fit_and_score\n",
      "    estimator.fit(X_train, y_train, **fit_params)\n",
      "  File \"c:\\venv\\ilumpy\\lib\\site-packages\\sklearn\\tree\\_classes.py\", line 969, in fit\n",
      "    super().fit(\n",
      "  File \"c:\\venv\\ilumpy\\lib\\site-packages\\sklearn\\tree\\_classes.py\", line 265, in fit\n",
      "    check_scalar(\n",
      "  File \"c:\\venv\\ilumpy\\lib\\site-packages\\sklearn\\utils\\validation.py\", line 1480, in check_scalar\n",
      "    raise ValueError(\n",
      "ValueError: min_samples_split == 1, must be >= 2.\n",
      "\n",
      "  warnings.warn(some_fits_failed_message, FitFailedWarning)\n",
      "c:\\venv\\ilumpy\\lib\\site-packages\\sklearn\\model_selection\\_search.py:953: UserWarning: One or more of the test scores are non-finite: [       nan 0.78573867 0.78585888 0.78348573        nan 0.78306694\n",
      " 0.7829351  0.78282265        nan 0.77639345 0.77637794 0.77652141\n",
      "        nan 0.77584281 0.7758622  0.77531545        nan 0.69907634\n",
      " 0.69907634 0.69907634        nan 0.69907634 0.69907634 0.69907634\n",
      "        nan 0.69907634 0.69907634 0.69907634        nan 0.69907634\n",
      " 0.69907634 0.69907634        nan 0.69907634 0.69907634 0.69907634\n",
      "        nan 0.69907634 0.69907634 0.69907634        nan 0.69907634\n",
      " 0.69907634 0.69907634        nan 0.69907634 0.69907634 0.69907634\n",
      "        nan 0.70353179 0.70353179 0.70353179        nan 0.70353179\n",
      " 0.70353179 0.70353179        nan 0.70353179 0.70353179 0.70353179\n",
      "        nan 0.70353179 0.70353179 0.70353179        nan 0.71049612\n",
      " 0.71049224 0.71049224        nan 0.71049224 0.71049224 0.71049224\n",
      "        nan 0.71050387 0.71049612 0.71049999        nan 0.71049224\n",
      " 0.71049224 0.71049224        nan 0.72368412 0.72373065 0.72372678\n",
      "        nan 0.7237229  0.72369188 0.72369188        nan 0.72369575\n",
      " 0.72364922 0.72369188        nan 0.7235833  0.72358718 0.72356779]\n",
      "  warnings.warn(\n"
     ]
    }
   ],
   "source": [
    "NUM_FOLDS = 5\n",
    "\n",
    "espaco_de_busca = {\n",
    "    \"max_depth\": [None, 2, 3, 5, 7, 10],\n",
    "    \"min_samples_split\": [1, 2, 3, 4],\n",
    "    \"min_samples_leaf\": [1, 2, 3, 4],\n",
    "}\n",
    "\n",
    "\n",
    "modelo_DTC = DecisionTreeClassifier()\n",
    "\n",
    "buscador = GridSearchCV(\n",
    "    modelo_DTC,\n",
    "    espaco_de_busca,\n",
    "    cv=NUM_FOLDS,\n",
    "    scoring=\"accuracy\",\n",
    "    refit=True,  # reajusta o melhor modelo com todos os dados de treino\n",
    "    n_jobs=4,\n",
    ")\n",
    "\n",
    "buscador.fit(X_treino_vif, y_treino_vif)\n",
    "\n",
    "vertice_folha = buscador.best_params_[\"min_samples_leaf\"]\n",
    "vertice_condicional = buscador.best_params_[\"min_samples_split\"]\n",
    "n_profundidade = buscador.best_params_[\"max_depth\"]"
   ]
  },
  {
   "cell_type": "markdown",
   "metadata": {
    "id": "OT0LTi2k6dE5"
   },
   "source": [
    "##### Modelo de Predição só com VIF:"
   ]
  },
  {
   "cell_type": "code",
   "execution_count": 139,
   "metadata": {
    "id": "xoNzeP_46dE6"
   },
   "outputs": [
    {
     "name": "stdout",
     "output_type": "stream",
     "text": [
      "\n",
      "Score do modelo: 0.8020171703776087\n"
     ]
    }
   ],
   "source": [
    "modelo_DTC = DecisionTreeClassifier(\n",
    "        min_samples_split=vertice_condicional,\n",
    "        min_samples_leaf=vertice_folha,\n",
    "        max_depth=n_profundidade,\n",
    "        criterion= \"gini\",\n",
    "        splitter= \"best\",\n",
    "        random_state=SEMENTE_ALEATORIA,\n",
    "    )\n",
    "\n",
    "modelo_DTC.fit(X_treino_vif, y_treino_vif)\n",
    "\n",
    "\n",
    "\n",
    "score = modelo_DTC.score(X_teste_vif, y_teste)\n",
    "\n",
    "print()\n",
    "print(\"Score do modelo:\", score)"
   ]
  },
  {
   "cell_type": "markdown",
   "metadata": {
    "id": "EF4GvGlJ6dE6",
    "jp-MarkdownHeadingCollapsed": true,
    "tags": []
   },
   "source": [
    "#### Arvore com PCA e Seleção VIF"
   ]
  },
  {
   "cell_type": "markdown",
   "metadata": {
    "id": "SO0gKjWk6dE6",
    "tags": []
   },
   "source": [
    "##### Redimensionando por PCA:"
   ]
  },
  {
   "cell_type": "code",
   "execution_count": 140,
   "metadata": {
    "id": "TCK388F_6dE6"
   },
   "outputs": [
    {
     "name": "stderr",
     "output_type": "stream",
     "text": [
      "c:\\venv\\ilumpy\\lib\\site-packages\\sklearn\\base.py:450: UserWarning: X does not have valid feature names, but PCA was fitted with feature names\n",
      "  warnings.warn(\n",
      "c:\\venv\\ilumpy\\lib\\site-packages\\sklearn\\base.py:450: UserWarning: X does not have valid feature names, but PCA was fitted with feature names\n",
      "  warnings.warn(\n"
     ]
    }
   ],
   "source": [
    "X = df_selection_vif.drop('score', axis=1)\n",
    "y = df_selection_vif['score']\n",
    "\n",
    "pca = PCA(n_componentes_pca)\n",
    "\n",
    "pca.fit(X)\n",
    "\n",
    "X_treino_vif_pca = pca.transform(X_treino_vif)\n",
    "X_teste_vif_pca = pca.transform(X_teste_vif)"
   ]
  },
  {
   "cell_type": "markdown",
   "metadata": {
    "id": "HDv4yq2h6dE6",
    "tags": []
   },
   "source": [
    "##### Validação Cruzado:"
   ]
  },
  {
   "cell_type": "code",
   "execution_count": 62,
   "metadata": {
    "id": "xJfd0I396dE6"
   },
   "outputs": [
    {
     "name": "stderr",
     "output_type": "stream",
     "text": [
      "c:\\venv\\ilumpy\\lib\\site-packages\\sklearn\\model_selection\\_validation.py:378: FitFailedWarning: \n",
      "120 fits failed out of a total of 480.\n",
      "The score on these train-test partitions for these parameters will be set to nan.\n",
      "If these failures are not expected, you can try to debug them by setting error_score='raise'.\n",
      "\n",
      "Below are more details about the failures:\n",
      "--------------------------------------------------------------------------------\n",
      "120 fits failed with the following error:\n",
      "Traceback (most recent call last):\n",
      "  File \"c:\\venv\\ilumpy\\lib\\site-packages\\sklearn\\model_selection\\_validation.py\", line 686, in _fit_and_score\n",
      "    estimator.fit(X_train, y_train, **fit_params)\n",
      "  File \"c:\\venv\\ilumpy\\lib\\site-packages\\sklearn\\tree\\_classes.py\", line 969, in fit\n",
      "    super().fit(\n",
      "  File \"c:\\venv\\ilumpy\\lib\\site-packages\\sklearn\\tree\\_classes.py\", line 265, in fit\n",
      "    check_scalar(\n",
      "  File \"c:\\venv\\ilumpy\\lib\\site-packages\\sklearn\\utils\\validation.py\", line 1480, in check_scalar\n",
      "    raise ValueError(\n",
      "ValueError: min_samples_split == 1, must be >= 2.\n",
      "\n",
      "  warnings.warn(some_fits_failed_message, FitFailedWarning)\n",
      "c:\\venv\\ilumpy\\lib\\site-packages\\sklearn\\model_selection\\_search.py:953: UserWarning: One or more of the test scores are non-finite: [       nan 0.77013875 0.77020855 0.76756397        nan 0.76749417\n",
      " 0.76722661 0.76738171        nan 0.75839712 0.75873836 0.75850182\n",
      "        nan 0.75765648 0.75750137 0.75759056        nan 0.69907634\n",
      " 0.69907634 0.69907634        nan 0.69907634 0.69907634 0.69907634\n",
      "        nan 0.69907634 0.69907634 0.69907634        nan 0.69907634\n",
      " 0.69907634 0.69907634        nan 0.69918103 0.69918103 0.69918103\n",
      "        nan 0.69918103 0.69918103 0.69918103        nan 0.69918103\n",
      " 0.69918103 0.69918103        nan 0.69918103 0.69918103 0.69918103\n",
      "        nan 0.70095313 0.70095313 0.70095313        nan 0.70095313\n",
      " 0.70095313 0.70095313        nan 0.70095313 0.70095313 0.70095313\n",
      "        nan 0.70095313 0.70095313 0.70095313        nan 0.70405528\n",
      " 0.70403201 0.70403201        nan 0.70403977 0.70403977 0.70405916\n",
      "        nan 0.70407467 0.70407079 0.70405528        nan 0.70407079\n",
      " 0.70409018 0.70406691        nan 0.71250475 0.71252414 0.71247373\n",
      "        nan 0.71243108 0.71241169 0.71241169        nan 0.71232638\n",
      " 0.71231475 0.7123225         nan 0.71223719 0.71226822 0.71221005]\n",
      "  warnings.warn(\n"
     ]
    }
   ],
   "source": [
    "NUM_FOLDS = 5\n",
    "\n",
    "espaco_de_busca = {\n",
    "    \"max_depth\": [None, 2, 3, 5, 7, 10],\n",
    "    \"min_samples_split\": [1, 2, 3, 4],\n",
    "    \"min_samples_leaf\": [1, 2, 3, 4],\n",
    "}\n",
    "\n",
    "\n",
    "modelo_DTC = DecisionTreeClassifier()\n",
    "\n",
    "buscador = GridSearchCV(\n",
    "    modelo_DTC,\n",
    "    espaco_de_busca,\n",
    "    cv=NUM_FOLDS,\n",
    "    scoring=\"accuracy\",\n",
    "    refit=True,  # reajusta o melhor modelo com todos os dados de treino\n",
    "    n_jobs=4,\n",
    ")\n",
    "\n",
    "buscador.fit(X_treino_vif_pca, y_treino_vif)\n",
    "\n",
    "vertice_folha = buscador.best_params_[\"min_samples_leaf\"]\n",
    "vertice_condicional = buscador.best_params_[\"min_samples_split\"]\n",
    "n_profundidade = buscador.best_params_[\"max_depth\"]"
   ]
  },
  {
   "cell_type": "markdown",
   "metadata": {
    "id": "vMb5pxQp6dE7",
    "tags": []
   },
   "source": [
    "##### Modelo de Predição com PCA e VIF"
   ]
  },
  {
   "cell_type": "code",
   "execution_count": 141,
   "metadata": {
    "id": "BRlEL0fU6dE7"
   },
   "outputs": [
    {
     "name": "stdout",
     "output_type": "stream",
     "text": [
      "\n",
      "Score do modelo: 0.7878481189362742\n"
     ]
    }
   ],
   "source": [
    "modelo_DTC = DecisionTreeClassifier(\n",
    "        min_samples_split=vertice_condicional,\n",
    "        min_samples_leaf=vertice_folha,\n",
    "        max_depth=n_profundidade,\n",
    "        criterion= \"gini\",\n",
    "        splitter= \"best\",\n",
    "        random_state=SEMENTE_ALEATORIA,\n",
    "    )\n",
    "\n",
    "modelo_DTC.fit(X_treino_vif_pca, y_treino_vif)\n",
    "\n",
    "score = modelo_DTC.score(X_teste_vif_pca, y_teste_vif)\n",
    "\n",
    "print()\n",
    "print(\"Score do modelo:\", score)"
   ]
  },
  {
   "cell_type": "markdown",
   "metadata": {
    "id": "gUuZ2c_M68vS",
    "tags": []
   },
   "source": [
    "### Modelo Floresta Aleatória."
   ]
  },
  {
   "cell_type": "markdown",
   "metadata": {
    "id": "GTU9YwGd68vS",
    "tags": []
   },
   "source": [
    "#### Floresta só com PCA"
   ]
  },
  {
   "cell_type": "markdown",
   "metadata": {
    "id": "4LdE6t1268vT",
    "tags": []
   },
   "source": [
    "##### Realizando o Resampling"
   ]
  },
  {
   "cell_type": "code",
   "execution_count": 67,
   "metadata": {
    "id": "-_piGbMC68vT"
   },
   "outputs": [],
   "source": [
    "X = df_validation.drop('score', axis=1)\n",
    "y = df_validation['score']\n",
    "\n",
    "\n",
    "smote = SMOTE(sampling_strategy='auto', k_neighbors=3, random_state=42)\n",
    "# Aplica o SMOTE apenas no conjunto de treinamento\n",
    "X_treino_SMOTE, y_treino_SMOTE = smote.fit_resample(X_treino, y_treino)"
   ]
  },
  {
   "cell_type": "code",
   "execution_count": 59,
   "metadata": {
    "id": "w8lScN-f68vT",
    "outputId": "ca6ba89a-0183-45b9-9e64-98b981a314f3"
   },
   "outputs": [
    {
     "data": {
      "text/plain": [
       "<Figure size 1000x4000 with 0 Axes>"
      ]
     },
     "metadata": {},
     "output_type": "display_data"
    },
    {
     "data": {
      "image/png": "[encoded data removed]",
      "text/plain": [
       "<Figure size 640x480 with 1 Axes>"
      ]
     },
     "metadata": {},
     "output_type": "display_data"
    }
   ],
   "source": [
    "plt.figure(figsize=(10,40))\n",
    "plt.figure()\n",
    "df_validation['score'].value_counts().plot(kind = 'bar')\n",
    "x_name = 'Niveis de Seca'\n",
    "y_name = 'Quantidade'\n",
    "plt.xlabel(x_name)\n",
    "plt.ylabel(y_name)\n",
    "plt.title('Distribuição do {x_name}'.format(x_name=x_name))\n",
    "plt.tight_layout()"
   ]
  },
  {
   "cell_type": "code",
   "execution_count": 60,
   "metadata": {
    "id": "QmGC2OvZ68vT"
   },
   "outputs": [],
   "source": [
    "y_SMOTE = pd.DataFrame(y_treino_SMOTE)"
   ]
  },
  {
   "cell_type": "code",
   "execution_count": 61,
   "metadata": {
    "id": "KN5xiHmd68vT",
    "outputId": "051e4713-4230-4e2f-f5a3-c00f34288bc6"
   },
   "outputs": [
    {
     "data": {
      "text/plain": [
       "<Figure size 1000x4000 with 0 Axes>"
      ]
     },
     "metadata": {},
     "output_type": "display_data"
    },
    {
     "data": {
      "image/png": "[encoded data removed]",
      "text/plain": [
       "<Figure size 640x480 with 1 Axes>"
      ]
     },
     "metadata": {},
     "output_type": "display_data"
    }
   ],
   "source": [
    "plt.figure(figsize=(10,40))\n",
    "plt.figure()\n",
    "y_SMOTE.iloc[:, 0].value_counts().plot(kind = 'bar')\n",
    "x_name = 'Niveis de Seca'\n",
    "y_name = 'Quantidade'\n",
    "plt.xlabel(x_name)\n",
    "plt.ylabel(y_name)\n",
    "plt.title('Distribution of {x_name}'.format(x_name=x_name))\n",
    "plt.tight_layout()"
   ]
  },
  {
   "cell_type": "markdown",
   "metadata": {
    "id": "lYdaiDTk68vT"
   },
   "source": [
    "Acima podemos ver a quantidade de cada valor de cada classes em nosso dataset e que através do segundo gráfico vemos que o volume em itens de cada classe no dataset foi igualado. Isso foi realizado para analizar se esse método contribúi para a eficiencia do modelo de predição."
   ]
  },
  {
   "cell_type": "markdown",
   "metadata": {
    "id": "BMwsUrkM68vT",
    "tags": []
   },
   "source": [
    "##### Definindo HiperParametros"
   ]
  },
  {
   "cell_type": "code",
   "execution_count": 62,
   "metadata": {
    "id": "io-cu_n068vT"
   },
   "outputs": [],
   "source": [
    "pca_params = {'n_components': n_componentes_pca}\n",
    "rfc_params = {'min_samples_split': vertice_condicional,\n",
    "              'min_samples_leaf': vertice_folha,\n",
    "              'max_depth': n_profundidade,\n",
    "              'n_estimators': 50}"
   ]
  },
  {
   "cell_type": "code",
   "execution_count": 63,
   "metadata": {},
   "outputs": [
    {
     "name": "stdout",
     "output_type": "stream",
     "text": [
      "3 1 None\n"
     ]
    }
   ],
   "source": [
    "print(vertice_condicional, vertice_folha,n_profundidade)"
   ]
  },
  {
   "cell_type": "markdown",
   "metadata": {
    "id": "4gAozbWa68vT"
   },
   "source": [
    "Como vimos nos moodelos disposto anteriormente, só com PCA, ou só com Seleção VIF a validação cruzada apresenta pouca diferença."
   ]
  },
  {
   "cell_type": "markdown",
   "metadata": {
    "id": "2SbsXrxz68vT",
    "tags": []
   },
   "source": [
    "##### PCA e Predição pelo Modelo:"
   ]
  },
  {
   "cell_type": "code",
   "execution_count": 64,
   "metadata": {},
   "outputs": [],
   "source": [
    "pipeline = Pipeline([\n",
    "    ('pca', PCA(**pca_params)),  # Redução de dimensionalidade com PCA\n",
    "    ('rf', RandomForestClassifier(**rfc_params))  # Modelo de Floresta Aleatória\n",
    "])\n",
    "\n",
    "# Treine o modelo usando o pipeline\n",
    "pipeline = pipeline.fit(X_treino, y_treino)\n",
    "# Faça previsões no conjunto de teste\n",
    "y_prev = pipeline.predict(X_teste)"
   ]
  },
  {
   "cell_type": "code",
   "execution_count": 65,
   "metadata": {},
   "outputs": [],
   "source": [
    "pipeline2 = Pipeline([\n",
    "    ('pca', PCA(**pca_params)),  # Redução de dimensionalidade com PCA\n",
    "    ('rf', RandomForestClassifier(**rfc_params))  # Modelo de Floresta Aleatória\n",
    "])\n",
    "\n",
    "# Treine o modelo usando o pipeline\n",
    "pipeline_smote = pipeline2.fit(X_treino_SMOTE, y_treino_SMOTE)\n",
    "# Faça previsões no conjunto de teste\n",
    "y_prev_smote = pipeline_smote.predict(X_teste)"
   ]
  },
  {
   "cell_type": "code",
   "execution_count": 66,
   "metadata": {},
   "outputs": [
    {
     "name": "stdout",
     "output_type": "stream",
     "text": [
      "\n",
      "Score da Floresta Aleatória: 0.8244224192084875\n",
      "Score da Floresta Aleatória com SMOTE: 0.8298666852795421\n"
     ]
    }
   ],
   "source": [
    "score = pipeline.score(X_teste, y_teste)\n",
    "score_smote = pipeline_smote.score(X_teste, y_teste)\n",
    "\n",
    "print()\n",
    "print(\"Score da Floresta Aleatória:\", score)\n",
    "print(\"Score da Floresta Aleatória com SMOTE:\", score_smote)"
   ]
  },
  {
   "cell_type": "markdown",
   "metadata": {
    "id": "Qysu8LzD68vU",
    "tags": []
   },
   "source": [
    "#### Floresta só com VIF"
   ]
  },
  {
   "cell_type": "markdown",
   "metadata": {
    "id": "vHTCL4Ri68vU",
    "tags": []
   },
   "source": [
    "##### Realizando o Resampling"
   ]
  },
  {
   "cell_type": "code",
   "execution_count": 48,
   "metadata": {
    "id": "8cgb5b2g68vU"
   },
   "outputs": [],
   "source": [
    "X = df_selection_vif.drop('score', axis=1)\n",
    "y = df_validation['score']\n",
    "\n",
    "\n",
    "smote = SMOTE(sampling_strategy='auto', k_neighbors=1, random_state=42)\n",
    "# Aplica o SMOTE apenas no conjunto de treinamento\n",
    "X_treino_vif_SMOTE, y_treino_vif_SMOTE = smote.fit_resample(X_treino_vif, y_treino_vif)"
   ]
  },
  {
   "cell_type": "markdown",
   "metadata": {
    "id": "-ZuyYWSE68vU"
   },
   "source": [
    "##### Modelo só com VIF:"
   ]
  },
  {
   "cell_type": "code",
   "execution_count": 77,
   "metadata": {
    "id": "wuospwfV68vU",
    "outputId": "f8fc3433-3d1a-45f8-99b8-9d710f5ec98e"
   },
   "outputs": [],
   "source": [
    "pipeline = Pipeline([\n",
    "    ('rf', RandomForestClassifier(**rfc_params))  # Modelo de Floresta Aleatória\n",
    "])\n",
    "\n",
    "# Treine o modelo usando o pipeline\n",
    "pipeline = pipeline.fit(X_treino_vif, y_treino_vif)\n",
    "# Faça previsões no conjunto de teste\n",
    "y_prev = pipeline.predict(X_teste_vif)"
   ]
  },
  {
   "cell_type": "code",
   "execution_count": 93,
   "metadata": {},
   "outputs": [],
   "source": [
    "pipeline2 = Pipeline([\n",
    "    ('rf', RandomForestClassifier(**rfc_params))  # Modelo de Floresta Aleatória\n",
    "])\n",
    "\n",
    "# Treine o modelo usando o pipeline\n",
    "pipeline_smote = pipeline2.fit(X_treino_vif_SMOTE, y_treino_vif_SMOTE)\n",
    "# Faça previsões no conjunto de teste\n",
    "y_prev_smote = pipeline_smote.predict(X_teste_vif)"
   ]
  },
  {
   "cell_type": "code",
   "execution_count": 95,
   "metadata": {},
   "outputs": [
    {
     "name": "stdout",
     "output_type": "stream",
     "text": [
      "\n",
      "Score do modelo: 0.83510155650171\n",
      "Score do modelo com SMOTE: 0.8394988483283311\n"
     ]
    }
   ],
   "source": [
    "score = pipeline.score(X_teste_vif, y_teste_vif)\n",
    "score_smote = pipeline_smote.score(X_teste_vif, y_teste_vif)\n",
    "\n",
    "print()\n",
    "print(\"Score do modelo:\", score)\n",
    "print(\"Score do modelo com SMOTE:\", score_smote)"
   ]
  },
  {
   "cell_type": "markdown",
   "metadata": {
    "id": "E-sJC7mm68vU"
   },
   "source": [
    "#### Floresta com VIF e PCA"
   ]
  },
  {
   "cell_type": "markdown",
   "metadata": {
    "id": "TaVLixx968vU"
   },
   "source": [
    "##### Modelo com VIF e com PCA."
   ]
  },
  {
   "cell_type": "code",
   "execution_count": 99,
   "metadata": {
    "id": "Yqh1UvwI68vU",
    "outputId": "5bc6ff44-c39f-4c2d-9b56-ff4de1a52823"
   },
   "outputs": [],
   "source": [
    "pipeline = Pipeline([\n",
    "    ('pca', PCA(**pca_params)),  # Redução de dimensionalidade com PCA\n",
    "    ('rf', RandomForestClassifier(**rfc_params))  # Modelo de Floresta Aleatória\n",
    "])\n",
    "\n",
    "# Treine o modelo usando o pipeline\n",
    "pipeline = pipeline.fit(X_treino_vif, y_treino_vif)\n",
    "# Faça previsões no conjunto de teste\n",
    "y_prev = pipeline.predict(X_teste_vif)"
   ]
  },
  {
   "cell_type": "code",
   "execution_count": 100,
   "metadata": {},
   "outputs": [],
   "source": [
    "pipeline2 = Pipeline([\n",
    "    ('pca', PCA(**pca_params)),  # Redução de dimensionalidade com PCA\n",
    "    ('rf', RandomForestClassifier(**rfc_params))  # Modelo de Floresta Aleatória\n",
    "])\n",
    "\n",
    "# Treine o modelo usando o pipeline\n",
    "pipeline_smote = pipeline2.fit(X_treino_vif_SMOTE, y_treino_vif_SMOTE)\n",
    "# Faça previsões no conjunto de teste\n",
    "y_prev_smote = pipeline_smote.predict(X_teste_vif)"
   ]
  },
  {
   "cell_type": "code",
   "execution_count": 102,
   "metadata": {},
   "outputs": [
    {
     "name": "stdout",
     "output_type": "stream",
     "text": [
      "\n",
      "Score do modelo: 0.8186291617226217\n",
      "Score do modelo com SMOTE: 0.8207231102114888\n"
     ]
    }
   ],
   "source": [
    "score = pipeline.score(X_teste_vif, y_teste_vif)\n",
    "score_smote = pipeline_smote.score(X_teste_vif, y_teste_vif)\n",
    "\n",
    "print()\n",
    "print(\"Score do modelo:\", score)\n",
    "print(\"Score do modelo com SMOTE:\", score_smote)"
   ]
  },
  {
   "cell_type": "markdown",
   "metadata": {},
   "source": [
    "## Conclusão:"
   ]
  },
  {
   "cell_type": "code",
   "execution_count": null,
   "metadata": {},
   "outputs": [],
   "source": [
    "A Conclusão para os modelos e abordagens feitos nesse notebook, estão disponibilizadas no readme. "
   ]
  }
 ],
 "metadata": {
  "colab": {
   "collapsed_sections": [
    "IemoJoUE4yHJ",
    "VW81IEXi4gmd",
    "HHsY_ZWMJZXy",
    "lcRxfkeHf-9v",
    "J0tqy_CbfHqe",
    "LrgxyyzWeAJp",
    "Fu6lSJbrLyJ6",
    "P5SIW3jFiu6D",
    "Qu23pM_QivsV",
    "D0WBmv4gvjKF",
    "HeVnfSe-whDu",
    "KekvTgQy6dE4",
    "NtT20sTU6dE4",
    "-o80X7Pz6dE5",
    "vOte-Evy6dE5",
    "e48zuFGL6dE5",
    "OT0LTi2k6dE5",
    "EF4GvGlJ6dE6",
    "SO0gKjWk6dE6",
    "HDv4yq2h6dE6",
    "vMb5pxQp6dE7",
    "HqrCS72YoNkD"
   ],
   "provenance": []
  },
  "kernelspec": {
   "display_name": "ilumpy",
   "language": "python",
   "name": "ilumpy"
  },
  "language_info": {
   "codemirror_mode": {
    "name": "ipython",
    "version": 3
   },
   "file_extension": ".py",
   "mimetype": "text/x-python",
   "name": "python",
   "nbconvert_exporter": "python",
   "pygments_lexer": "ipython3",
   "version": "3.10.8"
  }
 },
 "nbformat": 4,
 "nbformat_minor": 4
}
